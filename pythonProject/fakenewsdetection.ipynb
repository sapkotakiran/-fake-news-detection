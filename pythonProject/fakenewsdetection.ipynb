{
 "cells": [
  {
   "metadata": {},
   "cell_type": "markdown",
   "source": [
    "I AM GOING TO FAKE NEWS DETECTION\n",
    "\n",
    "Here is all the data : \"gossipcop_fake.csv\" \"gossipcop_real.csv\" \"politifact_fake.csv\" \"politifact_real.csv\""
   ],
   "id": "1649de3077eb7eba"
  },
  {
   "metadata": {},
   "cell_type": "markdown",
   "source": "Data loading",
   "id": "aa9aed8a3550fc13"
  },
  {
   "metadata": {},
   "cell_type": "markdown",
   "source": "",
   "id": "3660c99df1f40d42"
  },
  {
   "metadata": {},
   "cell_type": "markdown",
   "source": "Load the data from the four CSV files into separate pandas DataFrames.",
   "id": "4e9edd4b150756f6"
  },
  {
   "metadata": {
    "ExecuteTime": {
     "end_time": "2025-03-24T07:57:43.838222Z",
     "start_time": "2025-03-24T07:57:42.416900Z"
    }
   },
   "cell_type": "code",
   "source": [
    "#importing all the necessary libraies\n",
    "import pandas as pd\n",
    "import re\n",
    "import nltk\n",
    "from nltk.corpus import stopwords\n",
    "from nltk.stem import WordNetLemmatizer\n",
    "from sklearn.feature_extraction.text import TfidfVectorizer\n",
    "from sklearn.model_selection import train_test_split\n",
    "from sklearn.linear_model import LogisticRegression\n",
    "from sklearn.metrics import accuracy_score, precision_score, recall_score, f1_score, roc_auc_score"
   ],
   "id": "36391923644f07df",
   "outputs": [],
   "execution_count": 1
  },
  {
   "metadata": {
    "ExecuteTime": {
     "end_time": "2025-03-24T07:57:44.621279Z",
     "start_time": "2025-03-24T07:57:43.881280Z"
    }
   },
   "cell_type": "code",
   "source": [
    "# Download necessary NLTK resources (if not already downloaded)\n",
    "nltk.download('stopwords')\n",
    "nltk.download('wordnet')"
   ],
   "id": "9965a7a461b15778",
   "outputs": [
    {
     "name": "stderr",
     "output_type": "stream",
     "text": [
      "[nltk_data] Downloading package stopwords to\n",
      "[nltk_data]     C:\\Users\\LEGION\\AppData\\Roaming\\nltk_data...\n",
      "[nltk_data]   Package stopwords is already up-to-date!\n",
      "[nltk_data] Downloading package wordnet to\n",
      "[nltk_data]     C:\\Users\\LEGION\\AppData\\Roaming\\nltk_data...\n",
      "[nltk_data]   Package wordnet is already up-to-date!\n"
     ]
    },
    {
     "data": {
      "text/plain": [
       "True"
      ]
     },
     "execution_count": 2,
     "metadata": {},
     "output_type": "execute_result"
    }
   ],
   "execution_count": 2
  },
  {
   "metadata": {
    "ExecuteTime": {
     "end_time": "2025-03-24T07:57:46.392369Z",
     "start_time": "2025-03-24T07:57:45.281451Z"
    }
   },
   "cell_type": "code",
   "source": [
    "politifact_fake = pd.read_csv('politifact_fake.csv')\n",
    "politifact_real = pd.read_csv('politifact_real.csv')\n",
    "gossipcop_fake = pd.read_csv('gossipcop_fake.csv')\n",
    "gossipcop_real = pd.read_csv('gossipcop_real.csv')"
   ],
   "id": "7a2796e9c6d0682",
   "outputs": [],
   "execution_count": 3
  },
  {
   "metadata": {
    "ExecuteTime": {
     "end_time": "2025-03-24T07:57:46.457906Z",
     "start_time": "2025-03-24T07:57:46.437153Z"
    }
   },
   "cell_type": "code",
   "source": "politifact_fake.head()",
   "id": "ae1f83f6bf6a74a",
   "outputs": [
    {
     "data": {
      "text/plain": [
       "                id                                           news_url  \\\n",
       "0  politifact15014          speedtalk.com/forum/viewtopic.php?t=51650   \n",
       "1  politifact15156  politics2020.info/index.php/2018/03/13/court-o...   \n",
       "2  politifact14745  www.nscdscamps.org/blog/category/parenting/467...   \n",
       "3  politifact14355  https://howafrica.com/oscar-pistorius-attempts...   \n",
       "4  politifact15371  http://washingtonsources.org/trump-votes-for-d...   \n",
       "\n",
       "                                               title  \\\n",
       "0  BREAKING: First NFL Team Declares Bankruptcy O...   \n",
       "1  Court Orders Obama To Pay $400 Million In Rest...   \n",
       "2  UPDATE: Second Roy Moore Accuser Works For Mic...   \n",
       "3         Oscar Pistorius Attempts To Commit Suicide   \n",
       "4        Trump Votes For Death Penalty For Being Gay   \n",
       "\n",
       "                                           tweet_ids  \n",
       "0  937349434668498944\\t937379378006282240\\t937380...  \n",
       "1  972666281441878016\\t972678396575559680\\t972827...  \n",
       "2  929405740732870656\\t929439450400264192\\t929439...  \n",
       "3  886941526458347521\\t887011300278194176\\t887023...  \n",
       "4  915205698212040704\\t915242076681506816\\t915249...  "
      ],
      "text/html": [
       "<div>\n",
       "<style scoped>\n",
       "    .dataframe tbody tr th:only-of-type {\n",
       "        vertical-align: middle;\n",
       "    }\n",
       "\n",
       "    .dataframe tbody tr th {\n",
       "        vertical-align: top;\n",
       "    }\n",
       "\n",
       "    .dataframe thead th {\n",
       "        text-align: right;\n",
       "    }\n",
       "</style>\n",
       "<table border=\"1\" class=\"dataframe\">\n",
       "  <thead>\n",
       "    <tr style=\"text-align: right;\">\n",
       "      <th></th>\n",
       "      <th>id</th>\n",
       "      <th>news_url</th>\n",
       "      <th>title</th>\n",
       "      <th>tweet_ids</th>\n",
       "    </tr>\n",
       "  </thead>\n",
       "  <tbody>\n",
       "    <tr>\n",
       "      <th>0</th>\n",
       "      <td>politifact15014</td>\n",
       "      <td>speedtalk.com/forum/viewtopic.php?t=51650</td>\n",
       "      <td>BREAKING: First NFL Team Declares Bankruptcy O...</td>\n",
       "      <td>937349434668498944\\t937379378006282240\\t937380...</td>\n",
       "    </tr>\n",
       "    <tr>\n",
       "      <th>1</th>\n",
       "      <td>politifact15156</td>\n",
       "      <td>politics2020.info/index.php/2018/03/13/court-o...</td>\n",
       "      <td>Court Orders Obama To Pay $400 Million In Rest...</td>\n",
       "      <td>972666281441878016\\t972678396575559680\\t972827...</td>\n",
       "    </tr>\n",
       "    <tr>\n",
       "      <th>2</th>\n",
       "      <td>politifact14745</td>\n",
       "      <td>www.nscdscamps.org/blog/category/parenting/467...</td>\n",
       "      <td>UPDATE: Second Roy Moore Accuser Works For Mic...</td>\n",
       "      <td>929405740732870656\\t929439450400264192\\t929439...</td>\n",
       "    </tr>\n",
       "    <tr>\n",
       "      <th>3</th>\n",
       "      <td>politifact14355</td>\n",
       "      <td>https://howafrica.com/oscar-pistorius-attempts...</td>\n",
       "      <td>Oscar Pistorius Attempts To Commit Suicide</td>\n",
       "      <td>886941526458347521\\t887011300278194176\\t887023...</td>\n",
       "    </tr>\n",
       "    <tr>\n",
       "      <th>4</th>\n",
       "      <td>politifact15371</td>\n",
       "      <td>http://washingtonsources.org/trump-votes-for-d...</td>\n",
       "      <td>Trump Votes For Death Penalty For Being Gay</td>\n",
       "      <td>915205698212040704\\t915242076681506816\\t915249...</td>\n",
       "    </tr>\n",
       "  </tbody>\n",
       "</table>\n",
       "</div>"
      ]
     },
     "execution_count": 4,
     "metadata": {},
     "output_type": "execute_result"
    }
   ],
   "execution_count": 4
  },
  {
   "metadata": {
    "ExecuteTime": {
     "end_time": "2025-03-24T07:57:46.646006Z",
     "start_time": "2025-03-24T07:57:46.633459Z"
    }
   },
   "cell_type": "code",
   "source": "politifact_real.head()",
   "id": "1127ead537ebbcd0",
   "outputs": [
    {
     "data": {
      "text/plain": [
       "                id                                           news_url  \\\n",
       "0  politifact14984                          http://www.nfib-sbet.org/   \n",
       "1  politifact12944  http://www.cq.com/doc/newsmakertranscripts-494...   \n",
       "2    politifact333  https://web.archive.org/web/20080204072132/htt...   \n",
       "3   politifact4358  https://web.archive.org/web/20110811143753/htt...   \n",
       "4    politifact779  https://web.archive.org/web/20070820164107/htt...   \n",
       "\n",
       "                                               title  \\\n",
       "0        National Federation of Independent Business   \n",
       "1                        comments in Fayetteville NC   \n",
       "2  Romney makes pitch, hoping to close deal : Ele...   \n",
       "3  Democratic Leaders Say House Democrats Are Uni...   \n",
       "4    Budget of the United States Government, FY 2008   \n",
       "\n",
       "                                           tweet_ids  \n",
       "0  967132259869487105\\t967164368768196609\\t967215...  \n",
       "1  942953459\\t8980098198\\t16253717352\\t1668513250...  \n",
       "2                                                NaN  \n",
       "3                                                NaN  \n",
       "4  89804710374154240\\t91270460595109888\\t96039619...  "
      ],
      "text/html": [
       "<div>\n",
       "<style scoped>\n",
       "    .dataframe tbody tr th:only-of-type {\n",
       "        vertical-align: middle;\n",
       "    }\n",
       "\n",
       "    .dataframe tbody tr th {\n",
       "        vertical-align: top;\n",
       "    }\n",
       "\n",
       "    .dataframe thead th {\n",
       "        text-align: right;\n",
       "    }\n",
       "</style>\n",
       "<table border=\"1\" class=\"dataframe\">\n",
       "  <thead>\n",
       "    <tr style=\"text-align: right;\">\n",
       "      <th></th>\n",
       "      <th>id</th>\n",
       "      <th>news_url</th>\n",
       "      <th>title</th>\n",
       "      <th>tweet_ids</th>\n",
       "    </tr>\n",
       "  </thead>\n",
       "  <tbody>\n",
       "    <tr>\n",
       "      <th>0</th>\n",
       "      <td>politifact14984</td>\n",
       "      <td>http://www.nfib-sbet.org/</td>\n",
       "      <td>National Federation of Independent Business</td>\n",
       "      <td>967132259869487105\\t967164368768196609\\t967215...</td>\n",
       "    </tr>\n",
       "    <tr>\n",
       "      <th>1</th>\n",
       "      <td>politifact12944</td>\n",
       "      <td>http://www.cq.com/doc/newsmakertranscripts-494...</td>\n",
       "      <td>comments in Fayetteville NC</td>\n",
       "      <td>942953459\\t8980098198\\t16253717352\\t1668513250...</td>\n",
       "    </tr>\n",
       "    <tr>\n",
       "      <th>2</th>\n",
       "      <td>politifact333</td>\n",
       "      <td>https://web.archive.org/web/20080204072132/htt...</td>\n",
       "      <td>Romney makes pitch, hoping to close deal : Ele...</td>\n",
       "      <td>NaN</td>\n",
       "    </tr>\n",
       "    <tr>\n",
       "      <th>3</th>\n",
       "      <td>politifact4358</td>\n",
       "      <td>https://web.archive.org/web/20110811143753/htt...</td>\n",
       "      <td>Democratic Leaders Say House Democrats Are Uni...</td>\n",
       "      <td>NaN</td>\n",
       "    </tr>\n",
       "    <tr>\n",
       "      <th>4</th>\n",
       "      <td>politifact779</td>\n",
       "      <td>https://web.archive.org/web/20070820164107/htt...</td>\n",
       "      <td>Budget of the United States Government, FY 2008</td>\n",
       "      <td>89804710374154240\\t91270460595109888\\t96039619...</td>\n",
       "    </tr>\n",
       "  </tbody>\n",
       "</table>\n",
       "</div>"
      ]
     },
     "execution_count": 5,
     "metadata": {},
     "output_type": "execute_result"
    }
   ],
   "execution_count": 5
  },
  {
   "metadata": {
    "ExecuteTime": {
     "end_time": "2025-03-24T07:57:46.931951Z",
     "start_time": "2025-03-24T07:57:46.920635Z"
    }
   },
   "cell_type": "code",
   "source": "gossipcop_fake.head()",
   "id": "89025e66f981ee8b",
   "outputs": [
    {
     "data": {
      "text/plain": [
       "                     id                                           news_url  \\\n",
       "0  gossipcop-2493749932  www.dailymail.co.uk/tvshowbiz/article-5874213/...   \n",
       "1  gossipcop-4580247171  hollywoodlife.com/2018/05/05/paris-jackson-car...   \n",
       "2   gossipcop-941805037  variety.com/2017/biz/news/tax-march-donald-tru...   \n",
       "3  gossipcop-2547891536  www.dailymail.co.uk/femail/article-3499192/Do-...   \n",
       "4  gossipcop-5476631226  variety.com/2018/film/news/list-2018-oscar-nom...   \n",
       "\n",
       "                                               title  \\\n",
       "0  Did Miley Cyrus and Liam Hemsworth secretly ge...   \n",
       "1  Paris Jackson & Cara Delevingne Enjoy Night Ou...   \n",
       "2  Celebrities Join Tax March in Protest of Donal...   \n",
       "3  Cindy Crawford's daughter Kaia Gerber wears a ...   \n",
       "4      Full List of 2018 Oscar Nominations – Variety   \n",
       "\n",
       "                                           tweet_ids  \n",
       "0  284329075902926848\\t284332744559968256\\t284335...  \n",
       "1  992895508267130880\\t992897935418503169\\t992899...  \n",
       "2  853359353532829696\\t853359576543920128\\t853359...  \n",
       "3  988821905196158981\\t988824206556172288\\t988825...  \n",
       "4  955792793632432131\\t955795063925301249\\t955798...  "
      ],
      "text/html": [
       "<div>\n",
       "<style scoped>\n",
       "    .dataframe tbody tr th:only-of-type {\n",
       "        vertical-align: middle;\n",
       "    }\n",
       "\n",
       "    .dataframe tbody tr th {\n",
       "        vertical-align: top;\n",
       "    }\n",
       "\n",
       "    .dataframe thead th {\n",
       "        text-align: right;\n",
       "    }\n",
       "</style>\n",
       "<table border=\"1\" class=\"dataframe\">\n",
       "  <thead>\n",
       "    <tr style=\"text-align: right;\">\n",
       "      <th></th>\n",
       "      <th>id</th>\n",
       "      <th>news_url</th>\n",
       "      <th>title</th>\n",
       "      <th>tweet_ids</th>\n",
       "    </tr>\n",
       "  </thead>\n",
       "  <tbody>\n",
       "    <tr>\n",
       "      <th>0</th>\n",
       "      <td>gossipcop-2493749932</td>\n",
       "      <td>www.dailymail.co.uk/tvshowbiz/article-5874213/...</td>\n",
       "      <td>Did Miley Cyrus and Liam Hemsworth secretly ge...</td>\n",
       "      <td>284329075902926848\\t284332744559968256\\t284335...</td>\n",
       "    </tr>\n",
       "    <tr>\n",
       "      <th>1</th>\n",
       "      <td>gossipcop-4580247171</td>\n",
       "      <td>hollywoodlife.com/2018/05/05/paris-jackson-car...</td>\n",
       "      <td>Paris Jackson &amp; Cara Delevingne Enjoy Night Ou...</td>\n",
       "      <td>992895508267130880\\t992897935418503169\\t992899...</td>\n",
       "    </tr>\n",
       "    <tr>\n",
       "      <th>2</th>\n",
       "      <td>gossipcop-941805037</td>\n",
       "      <td>variety.com/2017/biz/news/tax-march-donald-tru...</td>\n",
       "      <td>Celebrities Join Tax March in Protest of Donal...</td>\n",
       "      <td>853359353532829696\\t853359576543920128\\t853359...</td>\n",
       "    </tr>\n",
       "    <tr>\n",
       "      <th>3</th>\n",
       "      <td>gossipcop-2547891536</td>\n",
       "      <td>www.dailymail.co.uk/femail/article-3499192/Do-...</td>\n",
       "      <td>Cindy Crawford's daughter Kaia Gerber wears a ...</td>\n",
       "      <td>988821905196158981\\t988824206556172288\\t988825...</td>\n",
       "    </tr>\n",
       "    <tr>\n",
       "      <th>4</th>\n",
       "      <td>gossipcop-5476631226</td>\n",
       "      <td>variety.com/2018/film/news/list-2018-oscar-nom...</td>\n",
       "      <td>Full List of 2018 Oscar Nominations – Variety</td>\n",
       "      <td>955792793632432131\\t955795063925301249\\t955798...</td>\n",
       "    </tr>\n",
       "  </tbody>\n",
       "</table>\n",
       "</div>"
      ]
     },
     "execution_count": 6,
     "metadata": {},
     "output_type": "execute_result"
    }
   ],
   "execution_count": 6
  },
  {
   "metadata": {
    "ExecuteTime": {
     "end_time": "2025-03-24T07:57:47.532985Z",
     "start_time": "2025-03-24T07:57:47.519980Z"
    }
   },
   "cell_type": "code",
   "source": "gossipcop_real",
   "id": "40fc6b3740ad787b",
   "outputs": [
    {
     "data": {
      "text/plain": [
       "                     id                                           news_url  \\\n",
       "0      gossipcop-882573  https://www.brides.com/story/teen-mom-jenelle-...   \n",
       "1      gossipcop-875924  https://www.dailymail.co.uk/tvshowbiz/article-...   \n",
       "2      gossipcop-894416        https://en.wikipedia.org/wiki/Quinn_Perkins   \n",
       "3      gossipcop-857248  https://www.refinery29.com/en-us/2018/03/19192...   \n",
       "4      gossipcop-884684  https://www.cnn.com/2017/10/04/entertainment/c...   \n",
       "...                 ...                                                ...   \n",
       "16812  gossipcop-891749  https://omgcheckitout.com/2017-hollywood-film-...   \n",
       "16813  gossipcop-941486  https://pagesix.com/2018/06/04/jada-pinkett-sm...   \n",
       "16814  gossipcop-953143  https://www.etonline.com/tinsley-mortimer-reac...   \n",
       "16815  gossipcop-954366  https://www.healthbreakingnews.net/2018/07/pri...   \n",
       "16816  gossipcop-877062  https://www.cosmopolitan.com/uk/entertainment/...   \n",
       "\n",
       "                                                   title  \\\n",
       "0      Teen Mom Star Jenelle Evans' Wedding Dress Is ...   \n",
       "1      Kylie Jenner refusing to discuss Tyga on Life ...   \n",
       "2                                          Quinn Perkins   \n",
       "3      I Tried Kim Kardashian's Butt Workout & Am For...   \n",
       "4      Celine Dion donates concert proceeds to Vegas ...   \n",
       "...                                                  ...   \n",
       "16812  2017 Hollywood Film Awards: The Complete List ...   \n",
       "16813  Jada Pinkett Smith explains why son Jaden move...   \n",
       "16814  Tinsley Mortimer Reacts to Luann de Lesseps' R...   \n",
       "16815  Prince Harry Carries on Princess Diana’s Legac...   \n",
       "16816  Kylie Jenner is actually terrified of butterflies   \n",
       "\n",
       "                                               tweet_ids  \n",
       "0      912371411146149888\\t912371528343408641\\t912372...  \n",
       "1      901989917546426369\\t901989992074969089\\t901990...  \n",
       "2      931263637246881792\\t931265332022579201\\t931265...  \n",
       "3      868114761723936769\\t868122567910936576\\t868128...  \n",
       "4      915528047004209152\\t915529285171122176\\t915530...  \n",
       "...                                                  ...  \n",
       "16812  927385466357260288\\t927386601034010625\\t927387...  \n",
       "16813  1004044947006386178\\t1004045964401889285\\t1004...  \n",
       "16814  1019924845889572864\\t1019925702676709377\\t1019...  \n",
       "16815  1021766291139584000\\t1021772054599802880\\t1021...  \n",
       "16816                                                NaN  \n",
       "\n",
       "[16817 rows x 4 columns]"
      ],
      "text/html": [
       "<div>\n",
       "<style scoped>\n",
       "    .dataframe tbody tr th:only-of-type {\n",
       "        vertical-align: middle;\n",
       "    }\n",
       "\n",
       "    .dataframe tbody tr th {\n",
       "        vertical-align: top;\n",
       "    }\n",
       "\n",
       "    .dataframe thead th {\n",
       "        text-align: right;\n",
       "    }\n",
       "</style>\n",
       "<table border=\"1\" class=\"dataframe\">\n",
       "  <thead>\n",
       "    <tr style=\"text-align: right;\">\n",
       "      <th></th>\n",
       "      <th>id</th>\n",
       "      <th>news_url</th>\n",
       "      <th>title</th>\n",
       "      <th>tweet_ids</th>\n",
       "    </tr>\n",
       "  </thead>\n",
       "  <tbody>\n",
       "    <tr>\n",
       "      <th>0</th>\n",
       "      <td>gossipcop-882573</td>\n",
       "      <td>https://www.brides.com/story/teen-mom-jenelle-...</td>\n",
       "      <td>Teen Mom Star Jenelle Evans' Wedding Dress Is ...</td>\n",
       "      <td>912371411146149888\\t912371528343408641\\t912372...</td>\n",
       "    </tr>\n",
       "    <tr>\n",
       "      <th>1</th>\n",
       "      <td>gossipcop-875924</td>\n",
       "      <td>https://www.dailymail.co.uk/tvshowbiz/article-...</td>\n",
       "      <td>Kylie Jenner refusing to discuss Tyga on Life ...</td>\n",
       "      <td>901989917546426369\\t901989992074969089\\t901990...</td>\n",
       "    </tr>\n",
       "    <tr>\n",
       "      <th>2</th>\n",
       "      <td>gossipcop-894416</td>\n",
       "      <td>https://en.wikipedia.org/wiki/Quinn_Perkins</td>\n",
       "      <td>Quinn Perkins</td>\n",
       "      <td>931263637246881792\\t931265332022579201\\t931265...</td>\n",
       "    </tr>\n",
       "    <tr>\n",
       "      <th>3</th>\n",
       "      <td>gossipcop-857248</td>\n",
       "      <td>https://www.refinery29.com/en-us/2018/03/19192...</td>\n",
       "      <td>I Tried Kim Kardashian's Butt Workout &amp; Am For...</td>\n",
       "      <td>868114761723936769\\t868122567910936576\\t868128...</td>\n",
       "    </tr>\n",
       "    <tr>\n",
       "      <th>4</th>\n",
       "      <td>gossipcop-884684</td>\n",
       "      <td>https://www.cnn.com/2017/10/04/entertainment/c...</td>\n",
       "      <td>Celine Dion donates concert proceeds to Vegas ...</td>\n",
       "      <td>915528047004209152\\t915529285171122176\\t915530...</td>\n",
       "    </tr>\n",
       "    <tr>\n",
       "      <th>...</th>\n",
       "      <td>...</td>\n",
       "      <td>...</td>\n",
       "      <td>...</td>\n",
       "      <td>...</td>\n",
       "    </tr>\n",
       "    <tr>\n",
       "      <th>16812</th>\n",
       "      <td>gossipcop-891749</td>\n",
       "      <td>https://omgcheckitout.com/2017-hollywood-film-...</td>\n",
       "      <td>2017 Hollywood Film Awards: The Complete List ...</td>\n",
       "      <td>927385466357260288\\t927386601034010625\\t927387...</td>\n",
       "    </tr>\n",
       "    <tr>\n",
       "      <th>16813</th>\n",
       "      <td>gossipcop-941486</td>\n",
       "      <td>https://pagesix.com/2018/06/04/jada-pinkett-sm...</td>\n",
       "      <td>Jada Pinkett Smith explains why son Jaden move...</td>\n",
       "      <td>1004044947006386178\\t1004045964401889285\\t1004...</td>\n",
       "    </tr>\n",
       "    <tr>\n",
       "      <th>16814</th>\n",
       "      <td>gossipcop-953143</td>\n",
       "      <td>https://www.etonline.com/tinsley-mortimer-reac...</td>\n",
       "      <td>Tinsley Mortimer Reacts to Luann de Lesseps' R...</td>\n",
       "      <td>1019924845889572864\\t1019925702676709377\\t1019...</td>\n",
       "    </tr>\n",
       "    <tr>\n",
       "      <th>16815</th>\n",
       "      <td>gossipcop-954366</td>\n",
       "      <td>https://www.healthbreakingnews.net/2018/07/pri...</td>\n",
       "      <td>Prince Harry Carries on Princess Diana’s Legac...</td>\n",
       "      <td>1021766291139584000\\t1021772054599802880\\t1021...</td>\n",
       "    </tr>\n",
       "    <tr>\n",
       "      <th>16816</th>\n",
       "      <td>gossipcop-877062</td>\n",
       "      <td>https://www.cosmopolitan.com/uk/entertainment/...</td>\n",
       "      <td>Kylie Jenner is actually terrified of butterflies</td>\n",
       "      <td>NaN</td>\n",
       "    </tr>\n",
       "  </tbody>\n",
       "</table>\n",
       "<p>16817 rows × 4 columns</p>\n",
       "</div>"
      ]
     },
     "execution_count": 7,
     "metadata": {},
     "output_type": "execute_result"
    }
   ],
   "execution_count": 7
  },
  {
   "metadata": {
    "ExecuteTime": {
     "end_time": "2025-03-24T07:57:48.116076Z",
     "start_time": "2025-03-24T07:57:48.104646Z"
    }
   },
   "cell_type": "code",
   "source": "gossipcop_fake.tail()",
   "id": "d6e21d5080d489e4",
   "outputs": [
    {
     "data": {
      "text/plain": [
       "                        id                                           news_url  \\\n",
       "5318  gossipcop-6702260693  www.huffingtonpost.com/2012/09/11/september-11...   \n",
       "5319  gossipcop-6051845337  www.dailymail.co.uk/news/article-4915674/NASCA...   \n",
       "5320  gossipcop-2435526162  www.telegraph.co.uk/men/the-filter/7-signs-dav...   \n",
       "5321  gossipcop-4576152851  www.vanityfair.com/style/2016/09/ryan-gosling-...   \n",
       "5322   gossipcop-919334865  www.lifeandstylemag.com/posts/jamie-foxx-katie...   \n",
       "\n",
       "                                                  title  \\\n",
       "5318   September 11: Celebrities Remember 9/11 (TWEETS)   \n",
       "5319  NASCAR owners threaten to fire drivers who pro...   \n",
       "5320  The 7 signs that David Beckham is definitely h...   \n",
       "5321  Ryan Gosling and Eva Mendes Did Not Get Marrie...   \n",
       "5322  Jamie Foxx Spends the Day With Katie Holmes an...   \n",
       "\n",
       "                                              tweet_ids  \n",
       "5318                                 245643768638894080  \n",
       "5319  912048333413330944\\t912048571482087424\\t912049...  \n",
       "5320  897794716447539200\\t897804460830928896\\t897842...  \n",
       "5321  778678901572710400\\t778681718714740736\\t778683...  \n",
       "5322  913137595424608258\\t913139996059717632\\t913146...  "
      ],
      "text/html": [
       "<div>\n",
       "<style scoped>\n",
       "    .dataframe tbody tr th:only-of-type {\n",
       "        vertical-align: middle;\n",
       "    }\n",
       "\n",
       "    .dataframe tbody tr th {\n",
       "        vertical-align: top;\n",
       "    }\n",
       "\n",
       "    .dataframe thead th {\n",
       "        text-align: right;\n",
       "    }\n",
       "</style>\n",
       "<table border=\"1\" class=\"dataframe\">\n",
       "  <thead>\n",
       "    <tr style=\"text-align: right;\">\n",
       "      <th></th>\n",
       "      <th>id</th>\n",
       "      <th>news_url</th>\n",
       "      <th>title</th>\n",
       "      <th>tweet_ids</th>\n",
       "    </tr>\n",
       "  </thead>\n",
       "  <tbody>\n",
       "    <tr>\n",
       "      <th>5318</th>\n",
       "      <td>gossipcop-6702260693</td>\n",
       "      <td>www.huffingtonpost.com/2012/09/11/september-11...</td>\n",
       "      <td>September 11: Celebrities Remember 9/11 (TWEETS)</td>\n",
       "      <td>245643768638894080</td>\n",
       "    </tr>\n",
       "    <tr>\n",
       "      <th>5319</th>\n",
       "      <td>gossipcop-6051845337</td>\n",
       "      <td>www.dailymail.co.uk/news/article-4915674/NASCA...</td>\n",
       "      <td>NASCAR owners threaten to fire drivers who pro...</td>\n",
       "      <td>912048333413330944\\t912048571482087424\\t912049...</td>\n",
       "    </tr>\n",
       "    <tr>\n",
       "      <th>5320</th>\n",
       "      <td>gossipcop-2435526162</td>\n",
       "      <td>www.telegraph.co.uk/men/the-filter/7-signs-dav...</td>\n",
       "      <td>The 7 signs that David Beckham is definitely h...</td>\n",
       "      <td>897794716447539200\\t897804460830928896\\t897842...</td>\n",
       "    </tr>\n",
       "    <tr>\n",
       "      <th>5321</th>\n",
       "      <td>gossipcop-4576152851</td>\n",
       "      <td>www.vanityfair.com/style/2016/09/ryan-gosling-...</td>\n",
       "      <td>Ryan Gosling and Eva Mendes Did Not Get Marrie...</td>\n",
       "      <td>778678901572710400\\t778681718714740736\\t778683...</td>\n",
       "    </tr>\n",
       "    <tr>\n",
       "      <th>5322</th>\n",
       "      <td>gossipcop-919334865</td>\n",
       "      <td>www.lifeandstylemag.com/posts/jamie-foxx-katie...</td>\n",
       "      <td>Jamie Foxx Spends the Day With Katie Holmes an...</td>\n",
       "      <td>913137595424608258\\t913139996059717632\\t913146...</td>\n",
       "    </tr>\n",
       "  </tbody>\n",
       "</table>\n",
       "</div>"
      ]
     },
     "execution_count": 8,
     "metadata": {},
     "output_type": "execute_result"
    }
   ],
   "execution_count": 8
  },
  {
   "metadata": {
    "ExecuteTime": {
     "end_time": "2025-03-24T07:57:48.743631Z",
     "start_time": "2025-03-24T07:57:48.732127Z"
    }
   },
   "cell_type": "code",
   "source": "gossipcop_real.tail()",
   "id": "dc780897bd4154d4",
   "outputs": [
    {
     "data": {
      "text/plain": [
       "                     id                                           news_url  \\\n",
       "16812  gossipcop-891749  https://omgcheckitout.com/2017-hollywood-film-...   \n",
       "16813  gossipcop-941486  https://pagesix.com/2018/06/04/jada-pinkett-sm...   \n",
       "16814  gossipcop-953143  https://www.etonline.com/tinsley-mortimer-reac...   \n",
       "16815  gossipcop-954366  https://www.healthbreakingnews.net/2018/07/pri...   \n",
       "16816  gossipcop-877062  https://www.cosmopolitan.com/uk/entertainment/...   \n",
       "\n",
       "                                                   title  \\\n",
       "16812  2017 Hollywood Film Awards: The Complete List ...   \n",
       "16813  Jada Pinkett Smith explains why son Jaden move...   \n",
       "16814  Tinsley Mortimer Reacts to Luann de Lesseps' R...   \n",
       "16815  Prince Harry Carries on Princess Diana’s Legac...   \n",
       "16816  Kylie Jenner is actually terrified of butterflies   \n",
       "\n",
       "                                               tweet_ids  \n",
       "16812  927385466357260288\\t927386601034010625\\t927387...  \n",
       "16813  1004044947006386178\\t1004045964401889285\\t1004...  \n",
       "16814  1019924845889572864\\t1019925702676709377\\t1019...  \n",
       "16815  1021766291139584000\\t1021772054599802880\\t1021...  \n",
       "16816                                                NaN  "
      ],
      "text/html": [
       "<div>\n",
       "<style scoped>\n",
       "    .dataframe tbody tr th:only-of-type {\n",
       "        vertical-align: middle;\n",
       "    }\n",
       "\n",
       "    .dataframe tbody tr th {\n",
       "        vertical-align: top;\n",
       "    }\n",
       "\n",
       "    .dataframe thead th {\n",
       "        text-align: right;\n",
       "    }\n",
       "</style>\n",
       "<table border=\"1\" class=\"dataframe\">\n",
       "  <thead>\n",
       "    <tr style=\"text-align: right;\">\n",
       "      <th></th>\n",
       "      <th>id</th>\n",
       "      <th>news_url</th>\n",
       "      <th>title</th>\n",
       "      <th>tweet_ids</th>\n",
       "    </tr>\n",
       "  </thead>\n",
       "  <tbody>\n",
       "    <tr>\n",
       "      <th>16812</th>\n",
       "      <td>gossipcop-891749</td>\n",
       "      <td>https://omgcheckitout.com/2017-hollywood-film-...</td>\n",
       "      <td>2017 Hollywood Film Awards: The Complete List ...</td>\n",
       "      <td>927385466357260288\\t927386601034010625\\t927387...</td>\n",
       "    </tr>\n",
       "    <tr>\n",
       "      <th>16813</th>\n",
       "      <td>gossipcop-941486</td>\n",
       "      <td>https://pagesix.com/2018/06/04/jada-pinkett-sm...</td>\n",
       "      <td>Jada Pinkett Smith explains why son Jaden move...</td>\n",
       "      <td>1004044947006386178\\t1004045964401889285\\t1004...</td>\n",
       "    </tr>\n",
       "    <tr>\n",
       "      <th>16814</th>\n",
       "      <td>gossipcop-953143</td>\n",
       "      <td>https://www.etonline.com/tinsley-mortimer-reac...</td>\n",
       "      <td>Tinsley Mortimer Reacts to Luann de Lesseps' R...</td>\n",
       "      <td>1019924845889572864\\t1019925702676709377\\t1019...</td>\n",
       "    </tr>\n",
       "    <tr>\n",
       "      <th>16815</th>\n",
       "      <td>gossipcop-954366</td>\n",
       "      <td>https://www.healthbreakingnews.net/2018/07/pri...</td>\n",
       "      <td>Prince Harry Carries on Princess Diana’s Legac...</td>\n",
       "      <td>1021766291139584000\\t1021772054599802880\\t1021...</td>\n",
       "    </tr>\n",
       "    <tr>\n",
       "      <th>16816</th>\n",
       "      <td>gossipcop-877062</td>\n",
       "      <td>https://www.cosmopolitan.com/uk/entertainment/...</td>\n",
       "      <td>Kylie Jenner is actually terrified of butterflies</td>\n",
       "      <td>NaN</td>\n",
       "    </tr>\n",
       "  </tbody>\n",
       "</table>\n",
       "</div>"
      ]
     },
     "execution_count": 9,
     "metadata": {},
     "output_type": "execute_result"
    }
   ],
   "execution_count": 9
  },
  {
   "metadata": {
    "ExecuteTime": {
     "end_time": "2025-03-24T07:57:49.212586Z",
     "start_time": "2025-03-24T07:57:49.200702Z"
    }
   },
   "cell_type": "code",
   "source": "politifact_fake.tail()",
   "id": "c936ede11e30d458",
   "outputs": [
    {
     "data": {
      "text/plain": [
       "                  id                                           news_url  \\\n",
       "427  politifact14944  http://thehill.com/homenews/senate/369928-who-...   \n",
       "428  politifact14071  https://web.archive.org/web/20170322070001/htt...   \n",
       "429  politifact13577                            http://archive.is/DQqCx   \n",
       "430  politifact13560  politicono.com/palin-calls-boycott-mall-americ...   \n",
       "431  politifact15030  https://theglobalheadlines.net/breaking-intel-...   \n",
       "\n",
       "                                                 title  \\\n",
       "427        Who is affected by the government shutdown?   \n",
       "428  Lindsey Graham Threatens To Convert To Democra...   \n",
       "429  ELECTORAL COLLEGE ELECTOR COMMITS SUICIDE TO A...   \n",
       "430  Sarah Palin Calls To Boycott Mall Of America B...   \n",
       "431                                  Account Suspended   \n",
       "\n",
       "                                             tweet_ids  \n",
       "427  954602090462146560\\t954602093171609600\\t954650...  \n",
       "428  740351669834244096\\t740391312277573632\\t740474...  \n",
       "429  810939651900907520\\t814738996706164737\\t814917...  \n",
       "430  805216591424212993\\t805222830023540736\\t805223...  \n",
       "431  934217740692443136\\t934217839816445952\\t934217...  "
      ],
      "text/html": [
       "<div>\n",
       "<style scoped>\n",
       "    .dataframe tbody tr th:only-of-type {\n",
       "        vertical-align: middle;\n",
       "    }\n",
       "\n",
       "    .dataframe tbody tr th {\n",
       "        vertical-align: top;\n",
       "    }\n",
       "\n",
       "    .dataframe thead th {\n",
       "        text-align: right;\n",
       "    }\n",
       "</style>\n",
       "<table border=\"1\" class=\"dataframe\">\n",
       "  <thead>\n",
       "    <tr style=\"text-align: right;\">\n",
       "      <th></th>\n",
       "      <th>id</th>\n",
       "      <th>news_url</th>\n",
       "      <th>title</th>\n",
       "      <th>tweet_ids</th>\n",
       "    </tr>\n",
       "  </thead>\n",
       "  <tbody>\n",
       "    <tr>\n",
       "      <th>427</th>\n",
       "      <td>politifact14944</td>\n",
       "      <td>http://thehill.com/homenews/senate/369928-who-...</td>\n",
       "      <td>Who is affected by the government shutdown?</td>\n",
       "      <td>954602090462146560\\t954602093171609600\\t954650...</td>\n",
       "    </tr>\n",
       "    <tr>\n",
       "      <th>428</th>\n",
       "      <td>politifact14071</td>\n",
       "      <td>https://web.archive.org/web/20170322070001/htt...</td>\n",
       "      <td>Lindsey Graham Threatens To Convert To Democra...</td>\n",
       "      <td>740351669834244096\\t740391312277573632\\t740474...</td>\n",
       "    </tr>\n",
       "    <tr>\n",
       "      <th>429</th>\n",
       "      <td>politifact13577</td>\n",
       "      <td>http://archive.is/DQqCx</td>\n",
       "      <td>ELECTORAL COLLEGE ELECTOR COMMITS SUICIDE TO A...</td>\n",
       "      <td>810939651900907520\\t814738996706164737\\t814917...</td>\n",
       "    </tr>\n",
       "    <tr>\n",
       "      <th>430</th>\n",
       "      <td>politifact13560</td>\n",
       "      <td>politicono.com/palin-calls-boycott-mall-americ...</td>\n",
       "      <td>Sarah Palin Calls To Boycott Mall Of America B...</td>\n",
       "      <td>805216591424212993\\t805222830023540736\\t805223...</td>\n",
       "    </tr>\n",
       "    <tr>\n",
       "      <th>431</th>\n",
       "      <td>politifact15030</td>\n",
       "      <td>https://theglobalheadlines.net/breaking-intel-...</td>\n",
       "      <td>Account Suspended</td>\n",
       "      <td>934217740692443136\\t934217839816445952\\t934217...</td>\n",
       "    </tr>\n",
       "  </tbody>\n",
       "</table>\n",
       "</div>"
      ]
     },
     "execution_count": 10,
     "metadata": {},
     "output_type": "execute_result"
    }
   ],
   "execution_count": 10
  },
  {
   "metadata": {},
   "cell_type": "markdown",
   "source": "",
   "id": "afd94f07099b90d2"
  },
  {
   "metadata": {
    "ExecuteTime": {
     "end_time": "2025-03-24T07:57:49.705102Z",
     "start_time": "2025-03-24T07:57:49.694265Z"
    }
   },
   "cell_type": "code",
   "source": "politifact_real.tail()",
   "id": "6eef92acd5b32ee8",
   "outputs": [
    {
     "data": {
      "text/plain": [
       "                  id                                           news_url  \\\n",
       "619  politifact14731  https://www.flake.senate.gov/public/index.cfm/...   \n",
       "620    politifact329  https://web.archive.org/web/20080131000131/htt...   \n",
       "621   politifact1576         http://www.youtube.com/watch?v=4O8CxZ1OD58   \n",
       "622   politifact4720         http://www.youtube.com/watch?v=EhyMplwY6HY   \n",
       "623     politifact52  https://web.archive.org/web/20071102131244/htt...   \n",
       "\n",
       "                                                 title  \\\n",
       "619  Flake: “Religious tests should have no place i...   \n",
       "620                           Change We Can Believe In   \n",
       "621  deputy director of national health statistics ...   \n",
       "622  Romneys ProLife Conversion Myth or Reality Jun...   \n",
       "623                             Interest Group Ratings   \n",
       "\n",
       "                                             tweet_ids  \n",
       "619                                                NaN  \n",
       "620  634287923135909888\\t946743411100536832\\t946816...  \n",
       "621                                                NaN  \n",
       "622                                 188871706637647874  \n",
       "623           1002208963239337984\\t1024651239697666048  "
      ],
      "text/html": [
       "<div>\n",
       "<style scoped>\n",
       "    .dataframe tbody tr th:only-of-type {\n",
       "        vertical-align: middle;\n",
       "    }\n",
       "\n",
       "    .dataframe tbody tr th {\n",
       "        vertical-align: top;\n",
       "    }\n",
       "\n",
       "    .dataframe thead th {\n",
       "        text-align: right;\n",
       "    }\n",
       "</style>\n",
       "<table border=\"1\" class=\"dataframe\">\n",
       "  <thead>\n",
       "    <tr style=\"text-align: right;\">\n",
       "      <th></th>\n",
       "      <th>id</th>\n",
       "      <th>news_url</th>\n",
       "      <th>title</th>\n",
       "      <th>tweet_ids</th>\n",
       "    </tr>\n",
       "  </thead>\n",
       "  <tbody>\n",
       "    <tr>\n",
       "      <th>619</th>\n",
       "      <td>politifact14731</td>\n",
       "      <td>https://www.flake.senate.gov/public/index.cfm/...</td>\n",
       "      <td>Flake: “Religious tests should have no place i...</td>\n",
       "      <td>NaN</td>\n",
       "    </tr>\n",
       "    <tr>\n",
       "      <th>620</th>\n",
       "      <td>politifact329</td>\n",
       "      <td>https://web.archive.org/web/20080131000131/htt...</td>\n",
       "      <td>Change We Can Believe In</td>\n",
       "      <td>634287923135909888\\t946743411100536832\\t946816...</td>\n",
       "    </tr>\n",
       "    <tr>\n",
       "      <th>621</th>\n",
       "      <td>politifact1576</td>\n",
       "      <td>http://www.youtube.com/watch?v=4O8CxZ1OD58</td>\n",
       "      <td>deputy director of national health statistics ...</td>\n",
       "      <td>NaN</td>\n",
       "    </tr>\n",
       "    <tr>\n",
       "      <th>622</th>\n",
       "      <td>politifact4720</td>\n",
       "      <td>http://www.youtube.com/watch?v=EhyMplwY6HY</td>\n",
       "      <td>Romneys ProLife Conversion Myth or Reality Jun...</td>\n",
       "      <td>188871706637647874</td>\n",
       "    </tr>\n",
       "    <tr>\n",
       "      <th>623</th>\n",
       "      <td>politifact52</td>\n",
       "      <td>https://web.archive.org/web/20071102131244/htt...</td>\n",
       "      <td>Interest Group Ratings</td>\n",
       "      <td>1002208963239337984\\t1024651239697666048</td>\n",
       "    </tr>\n",
       "  </tbody>\n",
       "</table>\n",
       "</div>"
      ]
     },
     "execution_count": 11,
     "metadata": {},
     "output_type": "execute_result"
    }
   ],
   "execution_count": 11
  },
  {
   "metadata": {},
   "cell_type": "markdown",
   "source": [
    "Combine the Datasets:\n",
    "To start, we need to load the four CSV files: politifact_fake.csv, politifact_real.csv, gossipcop_fake.csv, and gossipcop_real.csv. Each file contains news articles with titles, URLs, and associated X post IDs, labeled as fake or real based on the file name. Assign labels: 0 for fake news (from the fake files) and 1 for real news (from the real files). Extract only the title and label columns, then combine them into a single dataset.\n",
    "    "
   ],
   "id": "64a899b739be32e2"
  },
  {
   "metadata": {
    "ExecuteTime": {
     "end_time": "2025-03-24T07:57:51.031606Z",
     "start_time": "2025-03-24T07:57:50.119690Z"
    }
   },
   "cell_type": "code",
   "source": [
    "import pandas as pd\n",
    "\n",
    "# Load and label the datasets\n",
    "politifact_fake = pd.read_csv('politifact_fake.csv').assign(label=0)[['title', 'label']]\n",
    "politifact_real = pd.read_csv('politifact_real.csv').assign(label=1)[['title', 'label']]\n",
    "gossipcop_fake = pd.read_csv('gossipcop_fake.csv').assign(label=0)[['title', 'label']]\n",
    "gossipcop_real = pd.read_csv('gossipcop_real.csv').assign(label=1)[['title', 'label']]\n",
    "\n",
    "# Combine into one dataset\n",
    "combined_dataset = pd.concat([politifact_fake, politifact_real, gossipcop_fake, gossipcop_real], ignore_index=True)\n",
    "\n",
    "# Save the combined dataset\n",
    "combined_dataset.to_csv('combined_dataset.csv', index=False)"
   ],
   "id": "dd6b7c8475819681",
   "outputs": [],
   "execution_count": 12
  },
  {
   "metadata": {
    "ExecuteTime": {
     "end_time": "2025-03-24T07:57:51.124772Z",
     "start_time": "2025-03-24T07:57:51.109633Z"
    }
   },
   "cell_type": "code",
   "source": "combined_dataset = combined_dataset.dropna(subset=['title'])",
   "id": "d00d0a405c26b671",
   "outputs": [],
   "execution_count": 13
  },
  {
   "metadata": {
    "ExecuteTime": {
     "end_time": "2025-03-24T07:57:51.302005Z",
     "start_time": "2025-03-24T07:57:51.291007Z"
    }
   },
   "cell_type": "code",
   "source": "combined_dataset.head(10)",
   "id": "95d070b26cf827e1",
   "outputs": [
    {
     "data": {
      "text/plain": [
       "                                               title  label\n",
       "0  BREAKING: First NFL Team Declares Bankruptcy O...      0\n",
       "1  Court Orders Obama To Pay $400 Million In Rest...      0\n",
       "2  UPDATE: Second Roy Moore Accuser Works For Mic...      0\n",
       "3         Oscar Pistorius Attempts To Commit Suicide      0\n",
       "4        Trump Votes For Death Penalty For Being Gay      0\n",
       "5  Putin says: ‘Pope Francis Is Not A Man Of God’...      0\n",
       "6  New York Man Wanted For Infecting 240 Men And ...      0\n",
       "7  Saudi Arabia to Behead 6 School Girls for Bein...      0\n",
       "8  Malia Obama Fired From Cushy Internship At Spa...      0\n",
       "9           Target to Discontinue Sale of Holy Bible      0"
      ],
      "text/html": [
       "<div>\n",
       "<style scoped>\n",
       "    .dataframe tbody tr th:only-of-type {\n",
       "        vertical-align: middle;\n",
       "    }\n",
       "\n",
       "    .dataframe tbody tr th {\n",
       "        vertical-align: top;\n",
       "    }\n",
       "\n",
       "    .dataframe thead th {\n",
       "        text-align: right;\n",
       "    }\n",
       "</style>\n",
       "<table border=\"1\" class=\"dataframe\">\n",
       "  <thead>\n",
       "    <tr style=\"text-align: right;\">\n",
       "      <th></th>\n",
       "      <th>title</th>\n",
       "      <th>label</th>\n",
       "    </tr>\n",
       "  </thead>\n",
       "  <tbody>\n",
       "    <tr>\n",
       "      <th>0</th>\n",
       "      <td>BREAKING: First NFL Team Declares Bankruptcy O...</td>\n",
       "      <td>0</td>\n",
       "    </tr>\n",
       "    <tr>\n",
       "      <th>1</th>\n",
       "      <td>Court Orders Obama To Pay $400 Million In Rest...</td>\n",
       "      <td>0</td>\n",
       "    </tr>\n",
       "    <tr>\n",
       "      <th>2</th>\n",
       "      <td>UPDATE: Second Roy Moore Accuser Works For Mic...</td>\n",
       "      <td>0</td>\n",
       "    </tr>\n",
       "    <tr>\n",
       "      <th>3</th>\n",
       "      <td>Oscar Pistorius Attempts To Commit Suicide</td>\n",
       "      <td>0</td>\n",
       "    </tr>\n",
       "    <tr>\n",
       "      <th>4</th>\n",
       "      <td>Trump Votes For Death Penalty For Being Gay</td>\n",
       "      <td>0</td>\n",
       "    </tr>\n",
       "    <tr>\n",
       "      <th>5</th>\n",
       "      <td>Putin says: ‘Pope Francis Is Not A Man Of God’...</td>\n",
       "      <td>0</td>\n",
       "    </tr>\n",
       "    <tr>\n",
       "      <th>6</th>\n",
       "      <td>New York Man Wanted For Infecting 240 Men And ...</td>\n",
       "      <td>0</td>\n",
       "    </tr>\n",
       "    <tr>\n",
       "      <th>7</th>\n",
       "      <td>Saudi Arabia to Behead 6 School Girls for Bein...</td>\n",
       "      <td>0</td>\n",
       "    </tr>\n",
       "    <tr>\n",
       "      <th>8</th>\n",
       "      <td>Malia Obama Fired From Cushy Internship At Spa...</td>\n",
       "      <td>0</td>\n",
       "    </tr>\n",
       "    <tr>\n",
       "      <th>9</th>\n",
       "      <td>Target to Discontinue Sale of Holy Bible</td>\n",
       "      <td>0</td>\n",
       "    </tr>\n",
       "  </tbody>\n",
       "</table>\n",
       "</div>"
      ]
     },
     "execution_count": 14,
     "metadata": {},
     "output_type": "execute_result"
    }
   ],
   "execution_count": 14
  },
  {
   "metadata": {
    "ExecuteTime": {
     "end_time": "2025-03-24T07:57:51.536882Z",
     "start_time": "2025-03-24T07:57:51.518968Z"
    }
   },
   "cell_type": "code",
   "source": "combined_dataset.describe()",
   "id": "d10a68ac4f35d023",
   "outputs": [
    {
     "data": {
      "text/plain": [
       "              label\n",
       "count  23196.000000\n",
       "mean       0.751897\n",
       "std        0.431921\n",
       "min        0.000000\n",
       "25%        1.000000\n",
       "50%        1.000000\n",
       "75%        1.000000\n",
       "max        1.000000"
      ],
      "text/html": [
       "<div>\n",
       "<style scoped>\n",
       "    .dataframe tbody tr th:only-of-type {\n",
       "        vertical-align: middle;\n",
       "    }\n",
       "\n",
       "    .dataframe tbody tr th {\n",
       "        vertical-align: top;\n",
       "    }\n",
       "\n",
       "    .dataframe thead th {\n",
       "        text-align: right;\n",
       "    }\n",
       "</style>\n",
       "<table border=\"1\" class=\"dataframe\">\n",
       "  <thead>\n",
       "    <tr style=\"text-align: right;\">\n",
       "      <th></th>\n",
       "      <th>label</th>\n",
       "    </tr>\n",
       "  </thead>\n",
       "  <tbody>\n",
       "    <tr>\n",
       "      <th>count</th>\n",
       "      <td>23196.000000</td>\n",
       "    </tr>\n",
       "    <tr>\n",
       "      <th>mean</th>\n",
       "      <td>0.751897</td>\n",
       "    </tr>\n",
       "    <tr>\n",
       "      <th>std</th>\n",
       "      <td>0.431921</td>\n",
       "    </tr>\n",
       "    <tr>\n",
       "      <th>min</th>\n",
       "      <td>0.000000</td>\n",
       "    </tr>\n",
       "    <tr>\n",
       "      <th>25%</th>\n",
       "      <td>1.000000</td>\n",
       "    </tr>\n",
       "    <tr>\n",
       "      <th>50%</th>\n",
       "      <td>1.000000</td>\n",
       "    </tr>\n",
       "    <tr>\n",
       "      <th>75%</th>\n",
       "      <td>1.000000</td>\n",
       "    </tr>\n",
       "    <tr>\n",
       "      <th>max</th>\n",
       "      <td>1.000000</td>\n",
       "    </tr>\n",
       "  </tbody>\n",
       "</table>\n",
       "</div>"
      ]
     },
     "execution_count": 15,
     "metadata": {},
     "output_type": "execute_result"
    }
   ],
   "execution_count": 15
  },
  {
   "metadata": {
    "ExecuteTime": {
     "end_time": "2025-03-24T07:57:52.318596Z",
     "start_time": "2025-03-24T07:57:52.308945Z"
    }
   },
   "cell_type": "code",
   "source": "combined_dataset.isnull().sum()",
   "id": "3199b7ef53b89c9c",
   "outputs": [
    {
     "data": {
      "text/plain": [
       "title    0\n",
       "label    0\n",
       "dtype: int64"
      ]
     },
     "execution_count": 16,
     "metadata": {},
     "output_type": "execute_result"
    }
   ],
   "execution_count": 16
  },
  {
   "metadata": {
    "ExecuteTime": {
     "end_time": "2025-03-24T07:57:52.638412Z",
     "start_time": "2025-03-24T07:57:52.634502Z"
    }
   },
   "cell_type": "code",
   "source": "",
   "id": "3bb92b585602b748",
   "outputs": [],
   "execution_count": null
  },
  {
   "metadata": {
    "ExecuteTime": {
     "end_time": "2025-03-24T07:57:53.627123Z",
     "start_time": "2025-03-24T07:57:53.026863Z"
    }
   },
   "cell_type": "code",
   "source": [
    "import seaborn as sns\n",
    "import matplotlib.pyplot as plt\n",
    "\n",
    "combined_dataset['title_length'] = combined_dataset['title'].apply(len)\n",
    "plt.figure(figsize=(10, 6))\n",
    "sns.histplot(data=combined_dataset, x='title_length', hue='label', bins=30, kde=True)\n",
    "plt.title('Distribution of Title Lengths')\n",
    "plt.xlabel('Title Length')\n",
    "plt.ylabel('Frequency')\n",
    "plt.legend(title='Label', labels=['Fake', 'Real'])\n",
    "plt.show()\n",
    "\n"
   ],
   "id": "f2737b925f92d090",
   "outputs": [
    {
     "data": {
      "text/plain": [
       "<Figure size 1000x600 with 1 Axes>"
      ],
      "image/png": "[encoded data removed]"
     },
     "metadata": {},
     "output_type": "display_data"
    }
   ],
   "execution_count": 17
  },
  {
   "metadata": {
    "ExecuteTime": {
     "end_time": "2025-03-24T07:57:53.828977Z",
     "start_time": "2025-03-24T07:57:53.657972Z"
    }
   },
   "cell_type": "code",
   "source": [
    "plt.figure(figsize=(10, 6))\n",
    "sns.boxplot(x='label', y='title_length', data=combined_dataset)\n",
    "plt.title('Boxplot of Title Lengths by Label')\n",
    "plt.xlabel('Label (0: Fake, 1: Real)')\n",
    "plt.ylabel('Title Length')\n",
    "plt.show()"
   ],
   "id": "dd4178f16e403835",
   "outputs": [
    {
     "data": {
      "text/plain": [
       "<Figure size 1000x600 with 1 Axes>"
      ],
      "image/png": "[encoded data removed]"
     },
     "metadata": {},
     "output_type": "display_data"
    }
   ],
   "execution_count": 18
  },
  {
   "metadata": {
    "ExecuteTime": {
     "end_time": "2025-03-24T07:57:54.100672Z",
     "start_time": "2025-03-24T07:57:53.868786Z"
    }
   },
   "cell_type": "code",
   "source": [
    "import seaborn as sns\n",
    "import matplotlib.pyplot as plt\n",
    "\n",
    "sns.countplot(x='label', data=combined_dataset)\n",
    "plt.title('Distribution of Fake and Real News')\n",
    "plt.xlabel('Label (0: Fake, 1: Real)')\n",
    "plt.ylabel('Count')\n",
    "plt.show()"
   ],
   "id": "b9208150c1e350b0",
   "outputs": [
    {
     "data": {
      "text/plain": [
       "<Figure size 640x480 with 1 Axes>"
      ],
      "image/png": "[encoded data removed]"
     },
     "metadata": {},
     "output_type": "display_data"
    }
   ],
   "execution_count": 19
  },
  {
   "metadata": {
    "ExecuteTime": {
     "end_time": "2025-03-24T07:57:55.099920Z",
     "start_time": "2025-03-24T07:57:54.125403Z"
    }
   },
   "cell_type": "code",
   "source": [
    "plt.figure(figsize=(10, 6))\n",
    "sns.scatterplot(data=combined_dataset, x='title_length', y='label', hue='label')\n",
    "plt.title('Scatter Plot of Title Length vs Label')\n",
    "plt.xlabel('Title Length')\n",
    "plt.ylabel('Label (0: Fake, 1: Real)')\n",
    "plt.show()"
   ],
   "id": "7b303a5f69a73db5",
   "outputs": [
    {
     "data": {
      "text/plain": [
       "<Figure size 1000x600 with 1 Axes>"
      ],
      "image/png": "[encoded data removed]"
     },
     "metadata": {},
     "output_type": "display_data"
    }
   ],
   "execution_count": 20
  },
  {
   "metadata": {
    "ExecuteTime": {
     "end_time": "2025-03-24T07:57:55.297663Z",
     "start_time": "2025-03-24T07:57:55.153389Z"
    }
   },
   "cell_type": "code",
   "source": [
    "import numpy as np\n",
    "corr_matrix = combined_dataset[['title_length', 'label']].corr()\n",
    "plt.figure(figsize=(8, 6))\n",
    "sns.heatmap(corr_matrix, annot=True, cmap='coolwarm', center=0)\n",
    "plt.title('Correlation Heatmap of Features')\n",
    "plt.show()"
   ],
   "id": "cf93361eb18486c8",
   "outputs": [
    {
     "data": {
      "text/plain": [
       "<Figure size 800x600 with 2 Axes>"
      ],
      "image/png": "[encoded data removed]"
     },
     "metadata": {},
     "output_type": "display_data"
    }
   ],
   "execution_count": 21
  },
  {
   "metadata": {
    "ExecuteTime": {
     "end_time": "2025-03-24T07:57:55.926638Z",
     "start_time": "2025-03-24T07:57:55.313581Z"
    }
   },
   "cell_type": "code",
   "source": [
    "from collections import Counter\n",
    "\n",
    "fake_words = ' '.join(combined_dataset[combined_dataset['label'] == 0]['title']).split()\n",
    "real_words = ' '.join(combined_dataset[combined_dataset['label'] == 1]['title']).split()\n",
    "fake_word_freq = Counter(fake_words).most_common(20)\n",
    "real_word_freq = Counter(real_words).most_common(20)\n",
    "fake_df = pd.DataFrame(fake_word_freq, columns=['Word', 'Frequency']).assign(Label='Fake')\n",
    "real_df = pd.DataFrame(real_word_freq, columns=['Word', 'Frequency']).assign(Label='Real')\n",
    "top_words_df = pd.concat([fake_df, real_df])\n",
    "plt.figure(figsize=(12, 6))\n",
    "sns.barplot(x='Frequency', y='Word', hue='Label', data=top_words_df)\n",
    "plt.title('Top 20 Words in Fake and Real News Titles')\n",
    "plt.xlabel('Frequency')\n",
    "plt.ylabel('Word')\n",
    "plt.show()"
   ],
   "id": "a6917ca6d7d809b9",
   "outputs": [
    {
     "data": {
      "text/plain": [
       "<Figure size 1200x600 with 1 Axes>"
      ],
      "image/png": "[encoded data removed]"
     },
     "metadata": {},
     "output_type": "display_data"
    }
   ],
   "execution_count": 22
  },
  {
   "metadata": {
    "ExecuteTime": {
     "end_time": "2025-03-24T07:57:56.611437Z",
     "start_time": "2025-03-24T07:57:55.955323Z"
    }
   },
   "cell_type": "code",
   "source": [
    "sns.pairplot(combined_dataset, vars=['title_length'], hue='label')\n",
    "plt.show()"
   ],
   "id": "f3aef4183a1ff4be",
   "outputs": [
    {
     "data": {
      "text/plain": [
       "<Figure size 290.611x250 with 2 Axes>"
      ],
      "image/png": "[encoded data removed]"
     },
     "metadata": {},
     "output_type": "display_data"
    }
   ],
   "execution_count": 23
  },
  {
   "metadata": {},
   "cell_type": "markdown",
   "source": [
    "Preprocess the Titles\n",
    "Text preprocessing is essential to clean and standardize the titles for model training. Perform the following steps:\n",
    "\n",
    "Lowercase: Convert all text to lowercase for consistency.\n",
    "Remove Punctuation: Eliminate punctuation to reduce noise.\n",
    "Remove Stop Words: Exclude common words (e.g., \"the,\" \"and\") that don’t add meaning.\n",
    "Tokenization: Split titles into individual words."
   ],
   "id": "f6f27d8056e15f4f"
  },
  {
   "metadata": {
    "ExecuteTime": {
     "end_time": "2025-03-24T07:57:56.768329Z",
     "start_time": "2025-03-24T07:57:56.645016Z"
    }
   },
   "cell_type": "code",
   "source": [
    "from sklearn.feature_extraction.text import TfidfVectorizer\n",
    "import nltk\n",
    "from nltk.corpus import stopwords\n",
    "import re\n",
    "\n",
    "# Download stopwords if not already done\n",
    "nltk.download('stopwords')\n",
    "stop_words = set(stopwords.words('english'))\n",
    "\n",
    "# Function to clean text\n",
    "def preprocess_text(text):\n",
    "    text = text.lower()  # Convert to lowercase\n",
    "    text = re.sub(r'[^\\w\\s]', '', text)  # Remove punctuation\n",
    "    words = text.split()  # Tokenize\n",
    "    words = [word for word in words if word not in stop_words]  # Remove stop words\n",
    "    return ' '.join(words)\n",
    "\n",
    "# Apply preprocessing\n",
    "combined_dataset['title'] = combined_dataset['title'].apply(preprocess_text)"
   ],
   "id": "178740a50814af47",
   "outputs": [
    {
     "name": "stderr",
     "output_type": "stream",
     "text": [
      "[nltk_data] Downloading package stopwords to\n",
      "[nltk_data]     C:\\Users\\LEGION\\AppData\\Roaming\\nltk_data...\n",
      "[nltk_data]   Package stopwords is already up-to-date!\n"
     ]
    }
   ],
   "execution_count": 24
  },
  {
   "metadata": {},
   "cell_type": "markdown",
   "source": "Next, convert the cleaned titles into numerical features using TF-IDF vectorization, which weights words based on their importance:",
   "id": "d451a46ba1411851"
  },
  {
   "metadata": {
    "ExecuteTime": {
     "end_time": "2025-03-24T07:57:57.039280Z",
     "start_time": "2025-03-24T07:57:56.794446Z"
    }
   },
   "cell_type": "code",
   "source": [
    "# Separate features and labels\n",
    "X = combined_dataset['title']\n",
    "y = combined_dataset['label']\n",
    "\n",
    "# Vectorize the titles\n",
    "vectorizer = TfidfVectorizer(max_features=5000, stop_words='english')\n",
    "X_tfidf = vectorizer.fit_transform(X)"
   ],
   "id": "f401ffeaf3d10e9c",
   "outputs": [],
   "execution_count": 25
  },
  {
   "metadata": {},
   "cell_type": "markdown",
   "source": [
    "Split the Data\n",
    "Divide the dataset into training (80%) and testing (20%) sets to train the model and evaluate its performance:"
   ],
   "id": "e70d585dbd747aca"
  },
  {
   "metadata": {
    "ExecuteTime": {
     "end_time": "2025-03-24T07:57:57.093622Z",
     "start_time": "2025-03-24T07:57:57.083300Z"
    }
   },
   "cell_type": "code",
   "source": [
    "from sklearn.model_selection import train_test_split\n",
    "\n",
    "X_train, X_test, y_train, y_test = train_test_split(X_tfidf, y, test_size=0.2, random_state=42)"
   ],
   "id": "82ca0edcf568dc1c",
   "outputs": [],
   "execution_count": 26
  },
  {
   "metadata": {},
   "cell_type": "markdown",
   "source": "Start with a simple yet effective model like Logistic Regression to classify titles as fake or real:",
   "id": "6f48c2a533823696"
  },
  {
   "metadata": {
    "ExecuteTime": {
     "end_time": "2025-03-24T07:57:57.197570Z",
     "start_time": "2025-03-24T07:57:57.120307Z"
    }
   },
   "cell_type": "code",
   "source": [
    "from sklearn.linear_model import LogisticRegression\n",
    "\n",
    "# Initialize and train the model\n",
    "model = LogisticRegression()\n",
    "model.fit(X_train, y_train)"
   ],
   "id": "2aeb743f2bde2b63",
   "outputs": [
    {
     "data": {
      "text/plain": [
       "LogisticRegression()"
      ],
      "text/html": [
       "<style>#sk-container-id-1 {\n",
       "  /* Definition of color scheme common for light and dark mode */\n",
       "  --sklearn-color-text: black;\n",
       "  --sklearn-color-line: gray;\n",
       "  /* Definition of color scheme for unfitted estimators */\n",
       "  --sklearn-color-unfitted-level-0: #fff5e6;\n",
       "  --sklearn-color-unfitted-level-1: #f6e4d2;\n",
       "  --sklearn-color-unfitted-level-2: #ffe0b3;\n",
       "  --sklearn-color-unfitted-level-3: chocolate;\n",
       "  /* Definition of color scheme for fitted estimators */\n",
       "  --sklearn-color-fitted-level-0: #f0f8ff;\n",
       "  --sklearn-color-fitted-level-1: #d4ebff;\n",
       "  --sklearn-color-fitted-level-2: #b3dbfd;\n",
       "  --sklearn-color-fitted-level-3: cornflowerblue;\n",
       "\n",
       "  /* Specific color for light theme */\n",
       "  --sklearn-color-text-on-default-background: var(--sg-text-color, var(--theme-code-foreground, var(--jp-content-font-color1, black)));\n",
       "  --sklearn-color-background: var(--sg-background-color, var(--theme-background, var(--jp-layout-color0, white)));\n",
       "  --sklearn-color-border-box: var(--sg-text-color, var(--theme-code-foreground, var(--jp-content-font-color1, black)));\n",
       "  --sklearn-color-icon: #696969;\n",
       "\n",
       "  @media (prefers-color-scheme: dark) {\n",
       "    /* Redefinition of color scheme for dark theme */\n",
       "    --sklearn-color-text-on-default-background: var(--sg-text-color, var(--theme-code-foreground, var(--jp-content-font-color1, white)));\n",
       "    --sklearn-color-background: var(--sg-background-color, var(--theme-background, var(--jp-layout-color0, #111)));\n",
       "    --sklearn-color-border-box: var(--sg-text-color, var(--theme-code-foreground, var(--jp-content-font-color1, white)));\n",
       "    --sklearn-color-icon: #878787;\n",
       "  }\n",
       "}\n",
       "\n",
       "#sk-container-id-1 {\n",
       "  color: var(--sklearn-color-text);\n",
       "}\n",
       "\n",
       "#sk-container-id-1 pre {\n",
       "  padding: 0;\n",
       "}\n",
       "\n",
       "#sk-container-id-1 input.sk-hidden--visually {\n",
       "  border: 0;\n",
       "  clip: rect(1px 1px 1px 1px);\n",
       "  clip: rect(1px, 1px, 1px, 1px);\n",
       "  height: 1px;\n",
       "  margin: -1px;\n",
       "  overflow: hidden;\n",
       "  padding: 0;\n",
       "  position: absolute;\n",
       "  width: 1px;\n",
       "}\n",
       "\n",
       "#sk-container-id-1 div.sk-dashed-wrapped {\n",
       "  border: 1px dashed var(--sklearn-color-line);\n",
       "  margin: 0 0.4em 0.5em 0.4em;\n",
       "  box-sizing: border-box;\n",
       "  padding-bottom: 0.4em;\n",
       "  background-color: var(--sklearn-color-background);\n",
       "}\n",
       "\n",
       "#sk-container-id-1 div.sk-container {\n",
       "  /* jupyter's `normalize.less` sets `[hidden] { display: none; }`\n",
       "     but bootstrap.min.css set `[hidden] { display: none !important; }`\n",
       "     so we also need the `!important` here to be able to override the\n",
       "     default hidden behavior on the sphinx rendered scikit-learn.org.\n",
       "     See: https://github.com/scikit-learn/scikit-learn/issues/21755 */\n",
       "  display: inline-block !important;\n",
       "  position: relative;\n",
       "}\n",
       "\n",
       "#sk-container-id-1 div.sk-text-repr-fallback {\n",
       "  display: none;\n",
       "}\n",
       "\n",
       "div.sk-parallel-item,\n",
       "div.sk-serial,\n",
       "div.sk-item {\n",
       "  /* draw centered vertical line to link estimators */\n",
       "  background-image: linear-gradient(var(--sklearn-color-text-on-default-background), var(--sklearn-color-text-on-default-background));\n",
       "  background-size: 2px 100%;\n",
       "  background-repeat: no-repeat;\n",
       "  background-position: center center;\n",
       "}\n",
       "\n",
       "/* Parallel-specific style estimator block */\n",
       "\n",
       "#sk-container-id-1 div.sk-parallel-item::after {\n",
       "  content: \"\";\n",
       "  width: 100%;\n",
       "  border-bottom: 2px solid var(--sklearn-color-text-on-default-background);\n",
       "  flex-grow: 1;\n",
       "}\n",
       "\n",
       "#sk-container-id-1 div.sk-parallel {\n",
       "  display: flex;\n",
       "  align-items: stretch;\n",
       "  justify-content: center;\n",
       "  background-color: var(--sklearn-color-background);\n",
       "  position: relative;\n",
       "}\n",
       "\n",
       "#sk-container-id-1 div.sk-parallel-item {\n",
       "  display: flex;\n",
       "  flex-direction: column;\n",
       "}\n",
       "\n",
       "#sk-container-id-1 div.sk-parallel-item:first-child::after {\n",
       "  align-self: flex-end;\n",
       "  width: 50%;\n",
       "}\n",
       "\n",
       "#sk-container-id-1 div.sk-parallel-item:last-child::after {\n",
       "  align-self: flex-start;\n",
       "  width: 50%;\n",
       "}\n",
       "\n",
       "#sk-container-id-1 div.sk-parallel-item:only-child::after {\n",
       "  width: 0;\n",
       "}\n",
       "\n",
       "/* Serial-specific style estimator block */\n",
       "\n",
       "#sk-container-id-1 div.sk-serial {\n",
       "  display: flex;\n",
       "  flex-direction: column;\n",
       "  align-items: center;\n",
       "  background-color: var(--sklearn-color-background);\n",
       "  padding-right: 1em;\n",
       "  padding-left: 1em;\n",
       "}\n",
       "\n",
       "\n",
       "/* Toggleable style: style used for estimator/Pipeline/ColumnTransformer box that is\n",
       "clickable and can be expanded/collapsed.\n",
       "- Pipeline and ColumnTransformer use this feature and define the default style\n",
       "- Estimators will overwrite some part of the style using the `sk-estimator` class\n",
       "*/\n",
       "\n",
       "/* Pipeline and ColumnTransformer style (default) */\n",
       "\n",
       "#sk-container-id-1 div.sk-toggleable {\n",
       "  /* Default theme specific background. It is overwritten whether we have a\n",
       "  specific estimator or a Pipeline/ColumnTransformer */\n",
       "  background-color: var(--sklearn-color-background);\n",
       "}\n",
       "\n",
       "/* Toggleable label */\n",
       "#sk-container-id-1 label.sk-toggleable__label {\n",
       "  cursor: pointer;\n",
       "  display: block;\n",
       "  width: 100%;\n",
       "  margin-bottom: 0;\n",
       "  padding: 0.5em;\n",
       "  box-sizing: border-box;\n",
       "  text-align: center;\n",
       "}\n",
       "\n",
       "#sk-container-id-1 label.sk-toggleable__label-arrow:before {\n",
       "  /* Arrow on the left of the label */\n",
       "  content: \"▸\";\n",
       "  float: left;\n",
       "  margin-right: 0.25em;\n",
       "  color: var(--sklearn-color-icon);\n",
       "}\n",
       "\n",
       "#sk-container-id-1 label.sk-toggleable__label-arrow:hover:before {\n",
       "  color: var(--sklearn-color-text);\n",
       "}\n",
       "\n",
       "/* Toggleable content - dropdown */\n",
       "\n",
       "#sk-container-id-1 div.sk-toggleable__content {\n",
       "  max-height: 0;\n",
       "  max-width: 0;\n",
       "  overflow: hidden;\n",
       "  text-align: left;\n",
       "  /* unfitted */\n",
       "  background-color: var(--sklearn-color-unfitted-level-0);\n",
       "}\n",
       "\n",
       "#sk-container-id-1 div.sk-toggleable__content.fitted {\n",
       "  /* fitted */\n",
       "  background-color: var(--sklearn-color-fitted-level-0);\n",
       "}\n",
       "\n",
       "#sk-container-id-1 div.sk-toggleable__content pre {\n",
       "  margin: 0.2em;\n",
       "  border-radius: 0.25em;\n",
       "  color: var(--sklearn-color-text);\n",
       "  /* unfitted */\n",
       "  background-color: var(--sklearn-color-unfitted-level-0);\n",
       "}\n",
       "\n",
       "#sk-container-id-1 div.sk-toggleable__content.fitted pre {\n",
       "  /* unfitted */\n",
       "  background-color: var(--sklearn-color-fitted-level-0);\n",
       "}\n",
       "\n",
       "#sk-container-id-1 input.sk-toggleable__control:checked~div.sk-toggleable__content {\n",
       "  /* Expand drop-down */\n",
       "  max-height: 200px;\n",
       "  max-width: 100%;\n",
       "  overflow: auto;\n",
       "}\n",
       "\n",
       "#sk-container-id-1 input.sk-toggleable__control:checked~label.sk-toggleable__label-arrow:before {\n",
       "  content: \"▾\";\n",
       "}\n",
       "\n",
       "/* Pipeline/ColumnTransformer-specific style */\n",
       "\n",
       "#sk-container-id-1 div.sk-label input.sk-toggleable__control:checked~label.sk-toggleable__label {\n",
       "  color: var(--sklearn-color-text);\n",
       "  background-color: var(--sklearn-color-unfitted-level-2);\n",
       "}\n",
       "\n",
       "#sk-container-id-1 div.sk-label.fitted input.sk-toggleable__control:checked~label.sk-toggleable__label {\n",
       "  background-color: var(--sklearn-color-fitted-level-2);\n",
       "}\n",
       "\n",
       "/* Estimator-specific style */\n",
       "\n",
       "/* Colorize estimator box */\n",
       "#sk-container-id-1 div.sk-estimator input.sk-toggleable__control:checked~label.sk-toggleable__label {\n",
       "  /* unfitted */\n",
       "  background-color: var(--sklearn-color-unfitted-level-2);\n",
       "}\n",
       "\n",
       "#sk-container-id-1 div.sk-estimator.fitted input.sk-toggleable__control:checked~label.sk-toggleable__label {\n",
       "  /* fitted */\n",
       "  background-color: var(--sklearn-color-fitted-level-2);\n",
       "}\n",
       "\n",
       "#sk-container-id-1 div.sk-label label.sk-toggleable__label,\n",
       "#sk-container-id-1 div.sk-label label {\n",
       "  /* The background is the default theme color */\n",
       "  color: var(--sklearn-color-text-on-default-background);\n",
       "}\n",
       "\n",
       "/* On hover, darken the color of the background */\n",
       "#sk-container-id-1 div.sk-label:hover label.sk-toggleable__label {\n",
       "  color: var(--sklearn-color-text);\n",
       "  background-color: var(--sklearn-color-unfitted-level-2);\n",
       "}\n",
       "\n",
       "/* Label box, darken color on hover, fitted */\n",
       "#sk-container-id-1 div.sk-label.fitted:hover label.sk-toggleable__label.fitted {\n",
       "  color: var(--sklearn-color-text);\n",
       "  background-color: var(--sklearn-color-fitted-level-2);\n",
       "}\n",
       "\n",
       "/* Estimator label */\n",
       "\n",
       "#sk-container-id-1 div.sk-label label {\n",
       "  font-family: monospace;\n",
       "  font-weight: bold;\n",
       "  display: inline-block;\n",
       "  line-height: 1.2em;\n",
       "}\n",
       "\n",
       "#sk-container-id-1 div.sk-label-container {\n",
       "  text-align: center;\n",
       "}\n",
       "\n",
       "/* Estimator-specific */\n",
       "#sk-container-id-1 div.sk-estimator {\n",
       "  font-family: monospace;\n",
       "  border: 1px dotted var(--sklearn-color-border-box);\n",
       "  border-radius: 0.25em;\n",
       "  box-sizing: border-box;\n",
       "  margin-bottom: 0.5em;\n",
       "  /* unfitted */\n",
       "  background-color: var(--sklearn-color-unfitted-level-0);\n",
       "}\n",
       "\n",
       "#sk-container-id-1 div.sk-estimator.fitted {\n",
       "  /* fitted */\n",
       "  background-color: var(--sklearn-color-fitted-level-0);\n",
       "}\n",
       "\n",
       "/* on hover */\n",
       "#sk-container-id-1 div.sk-estimator:hover {\n",
       "  /* unfitted */\n",
       "  background-color: var(--sklearn-color-unfitted-level-2);\n",
       "}\n",
       "\n",
       "#sk-container-id-1 div.sk-estimator.fitted:hover {\n",
       "  /* fitted */\n",
       "  background-color: var(--sklearn-color-fitted-level-2);\n",
       "}\n",
       "\n",
       "/* Specification for estimator info (e.g. \"i\" and \"?\") */\n",
       "\n",
       "/* Common style for \"i\" and \"?\" */\n",
       "\n",
       ".sk-estimator-doc-link,\n",
       "a:link.sk-estimator-doc-link,\n",
       "a:visited.sk-estimator-doc-link {\n",
       "  float: right;\n",
       "  font-size: smaller;\n",
       "  line-height: 1em;\n",
       "  font-family: monospace;\n",
       "  background-color: var(--sklearn-color-background);\n",
       "  border-radius: 1em;\n",
       "  height: 1em;\n",
       "  width: 1em;\n",
       "  text-decoration: none !important;\n",
       "  margin-left: 1ex;\n",
       "  /* unfitted */\n",
       "  border: var(--sklearn-color-unfitted-level-1) 1pt solid;\n",
       "  color: var(--sklearn-color-unfitted-level-1);\n",
       "}\n",
       "\n",
       ".sk-estimator-doc-link.fitted,\n",
       "a:link.sk-estimator-doc-link.fitted,\n",
       "a:visited.sk-estimator-doc-link.fitted {\n",
       "  /* fitted */\n",
       "  border: var(--sklearn-color-fitted-level-1) 1pt solid;\n",
       "  color: var(--sklearn-color-fitted-level-1);\n",
       "}\n",
       "\n",
       "/* On hover */\n",
       "div.sk-estimator:hover .sk-estimator-doc-link:hover,\n",
       ".sk-estimator-doc-link:hover,\n",
       "div.sk-label-container:hover .sk-estimator-doc-link:hover,\n",
       ".sk-estimator-doc-link:hover {\n",
       "  /* unfitted */\n",
       "  background-color: var(--sklearn-color-unfitted-level-3);\n",
       "  color: var(--sklearn-color-background);\n",
       "  text-decoration: none;\n",
       "}\n",
       "\n",
       "div.sk-estimator.fitted:hover .sk-estimator-doc-link.fitted:hover,\n",
       ".sk-estimator-doc-link.fitted:hover,\n",
       "div.sk-label-container:hover .sk-estimator-doc-link.fitted:hover,\n",
       ".sk-estimator-doc-link.fitted:hover {\n",
       "  /* fitted */\n",
       "  background-color: var(--sklearn-color-fitted-level-3);\n",
       "  color: var(--sklearn-color-background);\n",
       "  text-decoration: none;\n",
       "}\n",
       "\n",
       "/* Span, style for the box shown on hovering the info icon */\n",
       ".sk-estimator-doc-link span {\n",
       "  display: none;\n",
       "  z-index: 9999;\n",
       "  position: relative;\n",
       "  font-weight: normal;\n",
       "  right: .2ex;\n",
       "  padding: .5ex;\n",
       "  margin: .5ex;\n",
       "  width: min-content;\n",
       "  min-width: 20ex;\n",
       "  max-width: 50ex;\n",
       "  color: var(--sklearn-color-text);\n",
       "  box-shadow: 2pt 2pt 4pt #999;\n",
       "  /* unfitted */\n",
       "  background: var(--sklearn-color-unfitted-level-0);\n",
       "  border: .5pt solid var(--sklearn-color-unfitted-level-3);\n",
       "}\n",
       "\n",
       ".sk-estimator-doc-link.fitted span {\n",
       "  /* fitted */\n",
       "  background: var(--sklearn-color-fitted-level-0);\n",
       "  border: var(--sklearn-color-fitted-level-3);\n",
       "}\n",
       "\n",
       ".sk-estimator-doc-link:hover span {\n",
       "  display: block;\n",
       "}\n",
       "\n",
       "/* \"?\"-specific style due to the `<a>` HTML tag */\n",
       "\n",
       "#sk-container-id-1 a.estimator_doc_link {\n",
       "  float: right;\n",
       "  font-size: 1rem;\n",
       "  line-height: 1em;\n",
       "  font-family: monospace;\n",
       "  background-color: var(--sklearn-color-background);\n",
       "  border-radius: 1rem;\n",
       "  height: 1rem;\n",
       "  width: 1rem;\n",
       "  text-decoration: none;\n",
       "  /* unfitted */\n",
       "  color: var(--sklearn-color-unfitted-level-1);\n",
       "  border: var(--sklearn-color-unfitted-level-1) 1pt solid;\n",
       "}\n",
       "\n",
       "#sk-container-id-1 a.estimator_doc_link.fitted {\n",
       "  /* fitted */\n",
       "  border: var(--sklearn-color-fitted-level-1) 1pt solid;\n",
       "  color: var(--sklearn-color-fitted-level-1);\n",
       "}\n",
       "\n",
       "/* On hover */\n",
       "#sk-container-id-1 a.estimator_doc_link:hover {\n",
       "  /* unfitted */\n",
       "  background-color: var(--sklearn-color-unfitted-level-3);\n",
       "  color: var(--sklearn-color-background);\n",
       "  text-decoration: none;\n",
       "}\n",
       "\n",
       "#sk-container-id-1 a.estimator_doc_link.fitted:hover {\n",
       "  /* fitted */\n",
       "  background-color: var(--sklearn-color-fitted-level-3);\n",
       "}\n",
       "</style><div id=\"sk-container-id-1\" class=\"sk-top-container\"><div class=\"sk-text-repr-fallback\"><pre>LogisticRegression()</pre><b>In a Jupyter environment, please rerun this cell to show the HTML representation or trust the notebook. <br />On GitHub, the HTML representation is unable to render, please try loading this page with nbviewer.org.</b></div><div class=\"sk-container\" hidden><div class=\"sk-item\"><div class=\"sk-estimator fitted sk-toggleable\"><input class=\"sk-toggleable__control sk-hidden--visually\" id=\"sk-estimator-id-1\" type=\"checkbox\" checked><label for=\"sk-estimator-id-1\" class=\"sk-toggleable__label fitted sk-toggleable__label-arrow fitted\">&nbsp;&nbsp;LogisticRegression<a class=\"sk-estimator-doc-link fitted\" rel=\"noreferrer\" target=\"_blank\" href=\"https://scikit-learn.org/1.5/modules/generated/sklearn.linear_model.LogisticRegression.html\">?<span>Documentation for LogisticRegression</span></a><span class=\"sk-estimator-doc-link fitted\">i<span>Fitted</span></span></label><div class=\"sk-toggleable__content fitted\"><pre>LogisticRegression()</pre></div> </div></div></div></div>"
      ]
     },
     "execution_count": 27,
     "metadata": {},
     "output_type": "execute_result"
    }
   ],
   "execution_count": 27
  },
  {
   "metadata": {},
   "cell_type": "markdown",
   "source": [
    "Evaluate the Model\n",
    "Assess the model’s performance on the test set using metrics like accuracy, precision, recall, and F1-score:"
   ],
   "id": "c9585df11f0230ff"
  },
  {
   "metadata": {
    "ExecuteTime": {
     "end_time": "2025-03-24T07:57:57.238859Z",
     "start_time": "2025-03-24T07:57:57.221907Z"
    }
   },
   "cell_type": "code",
   "source": [
    "from sklearn.metrics import accuracy_score, classification_report\n",
    "\n",
    "# Make predictions\n",
    "y_pred_logreg = model.predict(X_test)\n",
    "\n",
    "# Evaluate\n",
    "print(f'Accuracy: {accuracy_score(y_test, y_pred_logreg):.4f}')\n",
    "print(classification_report(y_test, y_pred_logreg, target_names=['Fake', 'Real']))"
   ],
   "id": "886d60cb9d0feb8d",
   "outputs": [
    {
     "name": "stdout",
     "output_type": "stream",
     "text": [
      "Accuracy: 0.8399\n",
      "              precision    recall  f1-score   support\n",
      "\n",
      "        Fake       0.81      0.48      0.60      1166\n",
      "        Real       0.85      0.96      0.90      3474\n",
      "\n",
      "    accuracy                           0.84      4640\n",
      "   macro avg       0.83      0.72      0.75      4640\n",
      "weighted avg       0.84      0.84      0.82      4640\n",
      "\n"
     ]
    }
   ],
   "execution_count": 28
  },
  {
   "metadata": {},
   "cell_type": "markdown",
   "source": "Check the balance: the dataset has an uneven number of fake and real news articles (e.g., more real than fake), the model might be biased toward the majority class. ",
   "id": "d9b290f29340a622"
  },
  {
   "metadata": {
    "ExecuteTime": {
     "end_time": "2025-03-24T07:57:57.317275Z",
     "start_time": "2025-03-24T07:57:57.310837Z"
    }
   },
   "cell_type": "code",
   "source": "print(combined_dataset['label'].value_counts())",
   "id": "98b75c1f7907983c",
   "outputs": [
    {
     "name": "stdout",
     "output_type": "stream",
     "text": [
      "label\n",
      "1    17441\n",
      "0     5755\n",
      "Name: count, dtype: int64\n"
     ]
    }
   ],
   "execution_count": 29
  },
  {
   "metadata": {},
   "cell_type": "markdown",
   "source": "we found imbalanced,then we use SMOTE (Synthetic Minority Oversampling Technique) to balance the classes before splitting:",
   "id": "df2099fc3f60cfa1"
  },
  {
   "metadata": {
    "ExecuteTime": {
     "end_time": "2025-03-24T07:57:58.569569Z",
     "start_time": "2025-03-24T07:57:57.396302Z"
    }
   },
   "cell_type": "code",
   "source": [
    "from imblearn.over_sampling import SMOTE\n",
    "\n",
    "smote = SMOTE(random_state=42)\n",
    "X_tfidf_balanced, y_balanced = smote.fit_resample(X_tfidf, y)\n",
    "\n",
    "# Re-split the balanced data\n",
    "X_train, X_test, y_train, y_test = train_test_split(X_tfidf_balanced, y_balanced, test_size=0.2, random_state=42)"
   ],
   "id": "c23d97ae944da336",
   "outputs": [],
   "execution_count": 30
  },
  {
   "metadata": {
    "ExecuteTime": {
     "end_time": "2025-03-24T07:57:58.644323Z",
     "start_time": "2025-03-24T07:57:58.578166Z"
    }
   },
   "cell_type": "code",
   "source": [
    "from sklearn.linear_model import LogisticRegression\n",
    "\n",
    "# Initialize and train the model\n",
    "model = LogisticRegression()\n",
    "model.fit(X_train, y_train)"
   ],
   "id": "dfda5046c5340de7",
   "outputs": [
    {
     "data": {
      "text/plain": [
       "LogisticRegression()"
      ],
      "text/html": [
       "<style>#sk-container-id-2 {\n",
       "  /* Definition of color scheme common for light and dark mode */\n",
       "  --sklearn-color-text: black;\n",
       "  --sklearn-color-line: gray;\n",
       "  /* Definition of color scheme for unfitted estimators */\n",
       "  --sklearn-color-unfitted-level-0: #fff5e6;\n",
       "  --sklearn-color-unfitted-level-1: #f6e4d2;\n",
       "  --sklearn-color-unfitted-level-2: #ffe0b3;\n",
       "  --sklearn-color-unfitted-level-3: chocolate;\n",
       "  /* Definition of color scheme for fitted estimators */\n",
       "  --sklearn-color-fitted-level-0: #f0f8ff;\n",
       "  --sklearn-color-fitted-level-1: #d4ebff;\n",
       "  --sklearn-color-fitted-level-2: #b3dbfd;\n",
       "  --sklearn-color-fitted-level-3: cornflowerblue;\n",
       "\n",
       "  /* Specific color for light theme */\n",
       "  --sklearn-color-text-on-default-background: var(--sg-text-color, var(--theme-code-foreground, var(--jp-content-font-color1, black)));\n",
       "  --sklearn-color-background: var(--sg-background-color, var(--theme-background, var(--jp-layout-color0, white)));\n",
       "  --sklearn-color-border-box: var(--sg-text-color, var(--theme-code-foreground, var(--jp-content-font-color1, black)));\n",
       "  --sklearn-color-icon: #696969;\n",
       "\n",
       "  @media (prefers-color-scheme: dark) {\n",
       "    /* Redefinition of color scheme for dark theme */\n",
       "    --sklearn-color-text-on-default-background: var(--sg-text-color, var(--theme-code-foreground, var(--jp-content-font-color1, white)));\n",
       "    --sklearn-color-background: var(--sg-background-color, var(--theme-background, var(--jp-layout-color0, #111)));\n",
       "    --sklearn-color-border-box: var(--sg-text-color, var(--theme-code-foreground, var(--jp-content-font-color1, white)));\n",
       "    --sklearn-color-icon: #878787;\n",
       "  }\n",
       "}\n",
       "\n",
       "#sk-container-id-2 {\n",
       "  color: var(--sklearn-color-text);\n",
       "}\n",
       "\n",
       "#sk-container-id-2 pre {\n",
       "  padding: 0;\n",
       "}\n",
       "\n",
       "#sk-container-id-2 input.sk-hidden--visually {\n",
       "  border: 0;\n",
       "  clip: rect(1px 1px 1px 1px);\n",
       "  clip: rect(1px, 1px, 1px, 1px);\n",
       "  height: 1px;\n",
       "  margin: -1px;\n",
       "  overflow: hidden;\n",
       "  padding: 0;\n",
       "  position: absolute;\n",
       "  width: 1px;\n",
       "}\n",
       "\n",
       "#sk-container-id-2 div.sk-dashed-wrapped {\n",
       "  border: 1px dashed var(--sklearn-color-line);\n",
       "  margin: 0 0.4em 0.5em 0.4em;\n",
       "  box-sizing: border-box;\n",
       "  padding-bottom: 0.4em;\n",
       "  background-color: var(--sklearn-color-background);\n",
       "}\n",
       "\n",
       "#sk-container-id-2 div.sk-container {\n",
       "  /* jupyter's `normalize.less` sets `[hidden] { display: none; }`\n",
       "     but bootstrap.min.css set `[hidden] { display: none !important; }`\n",
       "     so we also need the `!important` here to be able to override the\n",
       "     default hidden behavior on the sphinx rendered scikit-learn.org.\n",
       "     See: https://github.com/scikit-learn/scikit-learn/issues/21755 */\n",
       "  display: inline-block !important;\n",
       "  position: relative;\n",
       "}\n",
       "\n",
       "#sk-container-id-2 div.sk-text-repr-fallback {\n",
       "  display: none;\n",
       "}\n",
       "\n",
       "div.sk-parallel-item,\n",
       "div.sk-serial,\n",
       "div.sk-item {\n",
       "  /* draw centered vertical line to link estimators */\n",
       "  background-image: linear-gradient(var(--sklearn-color-text-on-default-background), var(--sklearn-color-text-on-default-background));\n",
       "  background-size: 2px 100%;\n",
       "  background-repeat: no-repeat;\n",
       "  background-position: center center;\n",
       "}\n",
       "\n",
       "/* Parallel-specific style estimator block */\n",
       "\n",
       "#sk-container-id-2 div.sk-parallel-item::after {\n",
       "  content: \"\";\n",
       "  width: 100%;\n",
       "  border-bottom: 2px solid var(--sklearn-color-text-on-default-background);\n",
       "  flex-grow: 1;\n",
       "}\n",
       "\n",
       "#sk-container-id-2 div.sk-parallel {\n",
       "  display: flex;\n",
       "  align-items: stretch;\n",
       "  justify-content: center;\n",
       "  background-color: var(--sklearn-color-background);\n",
       "  position: relative;\n",
       "}\n",
       "\n",
       "#sk-container-id-2 div.sk-parallel-item {\n",
       "  display: flex;\n",
       "  flex-direction: column;\n",
       "}\n",
       "\n",
       "#sk-container-id-2 div.sk-parallel-item:first-child::after {\n",
       "  align-self: flex-end;\n",
       "  width: 50%;\n",
       "}\n",
       "\n",
       "#sk-container-id-2 div.sk-parallel-item:last-child::after {\n",
       "  align-self: flex-start;\n",
       "  width: 50%;\n",
       "}\n",
       "\n",
       "#sk-container-id-2 div.sk-parallel-item:only-child::after {\n",
       "  width: 0;\n",
       "}\n",
       "\n",
       "/* Serial-specific style estimator block */\n",
       "\n",
       "#sk-container-id-2 div.sk-serial {\n",
       "  display: flex;\n",
       "  flex-direction: column;\n",
       "  align-items: center;\n",
       "  background-color: var(--sklearn-color-background);\n",
       "  padding-right: 1em;\n",
       "  padding-left: 1em;\n",
       "}\n",
       "\n",
       "\n",
       "/* Toggleable style: style used for estimator/Pipeline/ColumnTransformer box that is\n",
       "clickable and can be expanded/collapsed.\n",
       "- Pipeline and ColumnTransformer use this feature and define the default style\n",
       "- Estimators will overwrite some part of the style using the `sk-estimator` class\n",
       "*/\n",
       "\n",
       "/* Pipeline and ColumnTransformer style (default) */\n",
       "\n",
       "#sk-container-id-2 div.sk-toggleable {\n",
       "  /* Default theme specific background. It is overwritten whether we have a\n",
       "  specific estimator or a Pipeline/ColumnTransformer */\n",
       "  background-color: var(--sklearn-color-background);\n",
       "}\n",
       "\n",
       "/* Toggleable label */\n",
       "#sk-container-id-2 label.sk-toggleable__label {\n",
       "  cursor: pointer;\n",
       "  display: block;\n",
       "  width: 100%;\n",
       "  margin-bottom: 0;\n",
       "  padding: 0.5em;\n",
       "  box-sizing: border-box;\n",
       "  text-align: center;\n",
       "}\n",
       "\n",
       "#sk-container-id-2 label.sk-toggleable__label-arrow:before {\n",
       "  /* Arrow on the left of the label */\n",
       "  content: \"▸\";\n",
       "  float: left;\n",
       "  margin-right: 0.25em;\n",
       "  color: var(--sklearn-color-icon);\n",
       "}\n",
       "\n",
       "#sk-container-id-2 label.sk-toggleable__label-arrow:hover:before {\n",
       "  color: var(--sklearn-color-text);\n",
       "}\n",
       "\n",
       "/* Toggleable content - dropdown */\n",
       "\n",
       "#sk-container-id-2 div.sk-toggleable__content {\n",
       "  max-height: 0;\n",
       "  max-width: 0;\n",
       "  overflow: hidden;\n",
       "  text-align: left;\n",
       "  /* unfitted */\n",
       "  background-color: var(--sklearn-color-unfitted-level-0);\n",
       "}\n",
       "\n",
       "#sk-container-id-2 div.sk-toggleable__content.fitted {\n",
       "  /* fitted */\n",
       "  background-color: var(--sklearn-color-fitted-level-0);\n",
       "}\n",
       "\n",
       "#sk-container-id-2 div.sk-toggleable__content pre {\n",
       "  margin: 0.2em;\n",
       "  border-radius: 0.25em;\n",
       "  color: var(--sklearn-color-text);\n",
       "  /* unfitted */\n",
       "  background-color: var(--sklearn-color-unfitted-level-0);\n",
       "}\n",
       "\n",
       "#sk-container-id-2 div.sk-toggleable__content.fitted pre {\n",
       "  /* unfitted */\n",
       "  background-color: var(--sklearn-color-fitted-level-0);\n",
       "}\n",
       "\n",
       "#sk-container-id-2 input.sk-toggleable__control:checked~div.sk-toggleable__content {\n",
       "  /* Expand drop-down */\n",
       "  max-height: 200px;\n",
       "  max-width: 100%;\n",
       "  overflow: auto;\n",
       "}\n",
       "\n",
       "#sk-container-id-2 input.sk-toggleable__control:checked~label.sk-toggleable__label-arrow:before {\n",
       "  content: \"▾\";\n",
       "}\n",
       "\n",
       "/* Pipeline/ColumnTransformer-specific style */\n",
       "\n",
       "#sk-container-id-2 div.sk-label input.sk-toggleable__control:checked~label.sk-toggleable__label {\n",
       "  color: var(--sklearn-color-text);\n",
       "  background-color: var(--sklearn-color-unfitted-level-2);\n",
       "}\n",
       "\n",
       "#sk-container-id-2 div.sk-label.fitted input.sk-toggleable__control:checked~label.sk-toggleable__label {\n",
       "  background-color: var(--sklearn-color-fitted-level-2);\n",
       "}\n",
       "\n",
       "/* Estimator-specific style */\n",
       "\n",
       "/* Colorize estimator box */\n",
       "#sk-container-id-2 div.sk-estimator input.sk-toggleable__control:checked~label.sk-toggleable__label {\n",
       "  /* unfitted */\n",
       "  background-color: var(--sklearn-color-unfitted-level-2);\n",
       "}\n",
       "\n",
       "#sk-container-id-2 div.sk-estimator.fitted input.sk-toggleable__control:checked~label.sk-toggleable__label {\n",
       "  /* fitted */\n",
       "  background-color: var(--sklearn-color-fitted-level-2);\n",
       "}\n",
       "\n",
       "#sk-container-id-2 div.sk-label label.sk-toggleable__label,\n",
       "#sk-container-id-2 div.sk-label label {\n",
       "  /* The background is the default theme color */\n",
       "  color: var(--sklearn-color-text-on-default-background);\n",
       "}\n",
       "\n",
       "/* On hover, darken the color of the background */\n",
       "#sk-container-id-2 div.sk-label:hover label.sk-toggleable__label {\n",
       "  color: var(--sklearn-color-text);\n",
       "  background-color: var(--sklearn-color-unfitted-level-2);\n",
       "}\n",
       "\n",
       "/* Label box, darken color on hover, fitted */\n",
       "#sk-container-id-2 div.sk-label.fitted:hover label.sk-toggleable__label.fitted {\n",
       "  color: var(--sklearn-color-text);\n",
       "  background-color: var(--sklearn-color-fitted-level-2);\n",
       "}\n",
       "\n",
       "/* Estimator label */\n",
       "\n",
       "#sk-container-id-2 div.sk-label label {\n",
       "  font-family: monospace;\n",
       "  font-weight: bold;\n",
       "  display: inline-block;\n",
       "  line-height: 1.2em;\n",
       "}\n",
       "\n",
       "#sk-container-id-2 div.sk-label-container {\n",
       "  text-align: center;\n",
       "}\n",
       "\n",
       "/* Estimator-specific */\n",
       "#sk-container-id-2 div.sk-estimator {\n",
       "  font-family: monospace;\n",
       "  border: 1px dotted var(--sklearn-color-border-box);\n",
       "  border-radius: 0.25em;\n",
       "  box-sizing: border-box;\n",
       "  margin-bottom: 0.5em;\n",
       "  /* unfitted */\n",
       "  background-color: var(--sklearn-color-unfitted-level-0);\n",
       "}\n",
       "\n",
       "#sk-container-id-2 div.sk-estimator.fitted {\n",
       "  /* fitted */\n",
       "  background-color: var(--sklearn-color-fitted-level-0);\n",
       "}\n",
       "\n",
       "/* on hover */\n",
       "#sk-container-id-2 div.sk-estimator:hover {\n",
       "  /* unfitted */\n",
       "  background-color: var(--sklearn-color-unfitted-level-2);\n",
       "}\n",
       "\n",
       "#sk-container-id-2 div.sk-estimator.fitted:hover {\n",
       "  /* fitted */\n",
       "  background-color: var(--sklearn-color-fitted-level-2);\n",
       "}\n",
       "\n",
       "/* Specification for estimator info (e.g. \"i\" and \"?\") */\n",
       "\n",
       "/* Common style for \"i\" and \"?\" */\n",
       "\n",
       ".sk-estimator-doc-link,\n",
       "a:link.sk-estimator-doc-link,\n",
       "a:visited.sk-estimator-doc-link {\n",
       "  float: right;\n",
       "  font-size: smaller;\n",
       "  line-height: 1em;\n",
       "  font-family: monospace;\n",
       "  background-color: var(--sklearn-color-background);\n",
       "  border-radius: 1em;\n",
       "  height: 1em;\n",
       "  width: 1em;\n",
       "  text-decoration: none !important;\n",
       "  margin-left: 1ex;\n",
       "  /* unfitted */\n",
       "  border: var(--sklearn-color-unfitted-level-1) 1pt solid;\n",
       "  color: var(--sklearn-color-unfitted-level-1);\n",
       "}\n",
       "\n",
       ".sk-estimator-doc-link.fitted,\n",
       "a:link.sk-estimator-doc-link.fitted,\n",
       "a:visited.sk-estimator-doc-link.fitted {\n",
       "  /* fitted */\n",
       "  border: var(--sklearn-color-fitted-level-1) 1pt solid;\n",
       "  color: var(--sklearn-color-fitted-level-1);\n",
       "}\n",
       "\n",
       "/* On hover */\n",
       "div.sk-estimator:hover .sk-estimator-doc-link:hover,\n",
       ".sk-estimator-doc-link:hover,\n",
       "div.sk-label-container:hover .sk-estimator-doc-link:hover,\n",
       ".sk-estimator-doc-link:hover {\n",
       "  /* unfitted */\n",
       "  background-color: var(--sklearn-color-unfitted-level-3);\n",
       "  color: var(--sklearn-color-background);\n",
       "  text-decoration: none;\n",
       "}\n",
       "\n",
       "div.sk-estimator.fitted:hover .sk-estimator-doc-link.fitted:hover,\n",
       ".sk-estimator-doc-link.fitted:hover,\n",
       "div.sk-label-container:hover .sk-estimator-doc-link.fitted:hover,\n",
       ".sk-estimator-doc-link.fitted:hover {\n",
       "  /* fitted */\n",
       "  background-color: var(--sklearn-color-fitted-level-3);\n",
       "  color: var(--sklearn-color-background);\n",
       "  text-decoration: none;\n",
       "}\n",
       "\n",
       "/* Span, style for the box shown on hovering the info icon */\n",
       ".sk-estimator-doc-link span {\n",
       "  display: none;\n",
       "  z-index: 9999;\n",
       "  position: relative;\n",
       "  font-weight: normal;\n",
       "  right: .2ex;\n",
       "  padding: .5ex;\n",
       "  margin: .5ex;\n",
       "  width: min-content;\n",
       "  min-width: 20ex;\n",
       "  max-width: 50ex;\n",
       "  color: var(--sklearn-color-text);\n",
       "  box-shadow: 2pt 2pt 4pt #999;\n",
       "  /* unfitted */\n",
       "  background: var(--sklearn-color-unfitted-level-0);\n",
       "  border: .5pt solid var(--sklearn-color-unfitted-level-3);\n",
       "}\n",
       "\n",
       ".sk-estimator-doc-link.fitted span {\n",
       "  /* fitted */\n",
       "  background: var(--sklearn-color-fitted-level-0);\n",
       "  border: var(--sklearn-color-fitted-level-3);\n",
       "}\n",
       "\n",
       ".sk-estimator-doc-link:hover span {\n",
       "  display: block;\n",
       "}\n",
       "\n",
       "/* \"?\"-specific style due to the `<a>` HTML tag */\n",
       "\n",
       "#sk-container-id-2 a.estimator_doc_link {\n",
       "  float: right;\n",
       "  font-size: 1rem;\n",
       "  line-height: 1em;\n",
       "  font-family: monospace;\n",
       "  background-color: var(--sklearn-color-background);\n",
       "  border-radius: 1rem;\n",
       "  height: 1rem;\n",
       "  width: 1rem;\n",
       "  text-decoration: none;\n",
       "  /* unfitted */\n",
       "  color: var(--sklearn-color-unfitted-level-1);\n",
       "  border: var(--sklearn-color-unfitted-level-1) 1pt solid;\n",
       "}\n",
       "\n",
       "#sk-container-id-2 a.estimator_doc_link.fitted {\n",
       "  /* fitted */\n",
       "  border: var(--sklearn-color-fitted-level-1) 1pt solid;\n",
       "  color: var(--sklearn-color-fitted-level-1);\n",
       "}\n",
       "\n",
       "/* On hover */\n",
       "#sk-container-id-2 a.estimator_doc_link:hover {\n",
       "  /* unfitted */\n",
       "  background-color: var(--sklearn-color-unfitted-level-3);\n",
       "  color: var(--sklearn-color-background);\n",
       "  text-decoration: none;\n",
       "}\n",
       "\n",
       "#sk-container-id-2 a.estimator_doc_link.fitted:hover {\n",
       "  /* fitted */\n",
       "  background-color: var(--sklearn-color-fitted-level-3);\n",
       "}\n",
       "</style><div id=\"sk-container-id-2\" class=\"sk-top-container\"><div class=\"sk-text-repr-fallback\"><pre>LogisticRegression()</pre><b>In a Jupyter environment, please rerun this cell to show the HTML representation or trust the notebook. <br />On GitHub, the HTML representation is unable to render, please try loading this page with nbviewer.org.</b></div><div class=\"sk-container\" hidden><div class=\"sk-item\"><div class=\"sk-estimator fitted sk-toggleable\"><input class=\"sk-toggleable__control sk-hidden--visually\" id=\"sk-estimator-id-2\" type=\"checkbox\" checked><label for=\"sk-estimator-id-2\" class=\"sk-toggleable__label fitted sk-toggleable__label-arrow fitted\">&nbsp;&nbsp;LogisticRegression<a class=\"sk-estimator-doc-link fitted\" rel=\"noreferrer\" target=\"_blank\" href=\"https://scikit-learn.org/1.5/modules/generated/sklearn.linear_model.LogisticRegression.html\">?<span>Documentation for LogisticRegression</span></a><span class=\"sk-estimator-doc-link fitted\">i<span>Fitted</span></span></label><div class=\"sk-toggleable__content fitted\"><pre>LogisticRegression()</pre></div> </div></div></div></div>"
      ]
     },
     "execution_count": 31,
     "metadata": {},
     "output_type": "execute_result"
    }
   ],
   "execution_count": 31
  },
  {
   "metadata": {
    "ExecuteTime": {
     "end_time": "2025-03-24T07:57:58.695796Z",
     "start_time": "2025-03-24T07:57:58.673959Z"
    }
   },
   "cell_type": "code",
   "source": [
    "from sklearn.metrics import accuracy_score, classification_report\n",
    "\n",
    "# Make predictions\n",
    "y_pred = model.predict(X_test)\n",
    "\n",
    "# Evaluate\n",
    "print(f'Accuracy: {accuracy_score(y_test, y_pred):.4f}')\n",
    "print(classification_report(y_test, y_pred, target_names=['Fake', 'Real']))"
   ],
   "id": "9858eb3afe4fc0dd",
   "outputs": [
    {
     "name": "stdout",
     "output_type": "stream",
     "text": [
      "Accuracy: 0.8446\n",
      "              precision    recall  f1-score   support\n",
      "\n",
      "        Fake       0.82      0.88      0.85      3496\n",
      "        Real       0.87      0.81      0.84      3481\n",
      "\n",
      "    accuracy                           0.84      6977\n",
      "   macro avg       0.85      0.84      0.84      6977\n",
      "weighted avg       0.85      0.84      0.84      6977\n",
      "\n"
     ]
    }
   ],
   "execution_count": 32
  },
  {
   "metadata": {
    "ExecuteTime": {
     "end_time": "2025-03-24T07:57:58.754972Z",
     "start_time": "2025-03-24T07:57:58.734341Z"
    }
   },
   "cell_type": "code",
   "source": [
    "from sklearn.metrics import accuracy_score, classification_report\n",
    "\n",
    "# Make predictions on the test set\n",
    "y_pred = model.predict(X_test)\n",
    "\n",
    "# Evaluate the model\n",
    "print(f'Accuracy: {accuracy_score(y_test, y_pred):.4f}')\n",
    "print(classification_report(y_test, y_pred, target_names=['Fake', 'Real']))"
   ],
   "id": "d4c0b6d7c8817da6",
   "outputs": [
    {
     "name": "stdout",
     "output_type": "stream",
     "text": [
      "Accuracy: 0.8446\n",
      "              precision    recall  f1-score   support\n",
      "\n",
      "        Fake       0.82      0.88      0.85      3496\n",
      "        Real       0.87      0.81      0.84      3481\n",
      "\n",
      "    accuracy                           0.84      6977\n",
      "   macro avg       0.85      0.84      0.84      6977\n",
      "weighted avg       0.85      0.84      0.84      6977\n",
      "\n"
     ]
    }
   ],
   "execution_count": 33
  },
  {
   "metadata": {},
   "cell_type": "markdown",
   "source": [
    "Naive Bayes:\n",
    "Naive Bayes is a simple, probabilistic classifier that works well for text data, making it a great baseline for fake news detection."
   ],
   "id": "9f06316c33697c6c"
  },
  {
   "metadata": {
    "ExecuteTime": {
     "end_time": "2025-03-24T07:57:58.833904Z",
     "start_time": "2025-03-24T07:57:58.802683Z"
    }
   },
   "cell_type": "code",
   "source": [
    "from sklearn.naive_bayes import MultinomialNB\n",
    "from sklearn.metrics import accuracy_score, classification_report\n",
    "\n",
    "# Initialize and train the model\n",
    "nb_model = MultinomialNB()\n",
    "nb_model.fit(X_train, y_train)\n",
    "\n",
    "# Make predictions\n",
    "y_pred_nb = nb_model.predict(X_test)\n",
    "\n",
    "# Evaluate\n",
    "print(\"Naive Bayes Results\")\n",
    "print(f\"Accuracy: {accuracy_score(y_test, y_pred_nb):.4f}\")\n",
    "print(classification_report(y_test, y_pred_nb, target_names=['Fake', 'Real']))"
   ],
   "id": "f5d28ee54aa1436a",
   "outputs": [
    {
     "name": "stdout",
     "output_type": "stream",
     "text": [
      "Naive Bayes Results\n",
      "Accuracy: 0.8188\n",
      "              precision    recall  f1-score   support\n",
      "\n",
      "        Fake       0.81      0.83      0.82      3496\n",
      "        Real       0.82      0.81      0.82      3481\n",
      "\n",
      "    accuracy                           0.82      6977\n",
      "   macro avg       0.82      0.82      0.82      6977\n",
      "weighted avg       0.82      0.82      0.82      6977\n",
      "\n"
     ]
    }
   ],
   "execution_count": 34
  },
  {
   "metadata": {},
   "cell_type": "markdown",
   "source": [
    "Support Vector Machine (SVM):\n",
    "SVM is a robust classifier that excels in high-dimensional spaces, like TF-IDF vectors, by finding the best boundary between classes."
   ],
   "id": "cc0b4ddb01de937c"
  },
  {
   "metadata": {
    "ExecuteTime": {
     "end_time": "2025-03-24T07:58:51.555596Z",
     "start_time": "2025-03-24T07:57:58.878004Z"
    }
   },
   "cell_type": "code",
   "source": [
    "from sklearn.svm import SVC\n",
    "\n",
    "# Initialize and train the model\n",
    "svm_model = SVC(kernel='linear', random_state=42)\n",
    "svm_model.fit(X_train, y_train)\n",
    "\n",
    "# Make predictions\n",
    "y_pred_svm = svm_model.predict(X_test)\n",
    "\n",
    "# Evaluate\n",
    "print(\"SVM Results\")\n",
    "print(f\"Accuracy: {accuracy_score(y_test, y_pred_svm):.4f}\")\n",
    "print(classification_report(y_test, y_pred_svm, target_names=['Fake', 'Real']))"
   ],
   "id": "c33cb3b84ea5c6a5",
   "outputs": [
    {
     "name": "stdout",
     "output_type": "stream",
     "text": [
      "SVM Results\n",
      "Accuracy: 0.8481\n",
      "              precision    recall  f1-score   support\n",
      "\n",
      "        Fake       0.82      0.89      0.86      3496\n",
      "        Real       0.88      0.80      0.84      3481\n",
      "\n",
      "    accuracy                           0.85      6977\n",
      "   macro avg       0.85      0.85      0.85      6977\n",
      "weighted avg       0.85      0.85      0.85      6977\n",
      "\n"
     ]
    }
   ],
   "execution_count": 35
  },
  {
   "metadata": {
    "ExecuteTime": {
     "end_time": "2025-03-24T07:59:43.414922Z",
     "start_time": "2025-03-24T07:58:51.585848Z"
    }
   },
   "cell_type": "code",
   "source": [
    "from sklearn.svm import SVC\n",
    "\n",
    "# Initialize and train the model\n",
    "svm_model = SVC(kernel='linear', random_state=42)\n",
    "svm_model.fit(X_train, y_train)\n",
    "\n",
    "# Make predictions\n",
    "y_pred_svm = svm_model.predict(X_test)\n",
    "\n",
    "# Evaluate\n",
    "print(\"SVM Results\")\n",
    "print(f\"Accuracy: {accuracy_score(y_test, y_pred_svm):.4f}\")\n",
    "print(classification_report(y_test, y_pred_svm, target_names=['Fake', 'Real']))"
   ],
   "id": "3ac179f72d1606b6",
   "outputs": [
    {
     "name": "stdout",
     "output_type": "stream",
     "text": [
      "SVM Results\n",
      "Accuracy: 0.8481\n",
      "              precision    recall  f1-score   support\n",
      "\n",
      "        Fake       0.82      0.89      0.86      3496\n",
      "        Real       0.88      0.80      0.84      3481\n",
      "\n",
      "    accuracy                           0.85      6977\n",
      "   macro avg       0.85      0.85      0.85      6977\n",
      "weighted avg       0.85      0.85      0.85      6977\n",
      "\n"
     ]
    }
   ],
   "execution_count": 36
  },
  {
   "metadata": {},
   "cell_type": "markdown",
   "source": [
    "Random Forest:\n",
    "Random Forest is an ensemble method that combines multiple decision trees, making it less prone to overfitting and good at capturing complex patterns."
   ],
   "id": "3735ee8865995310"
  },
  {
   "metadata": {
    "ExecuteTime": {
     "end_time": "2025-03-24T08:00:14.680966Z",
     "start_time": "2025-03-24T07:59:43.444114Z"
    }
   },
   "cell_type": "code",
   "source": [
    "from sklearn.ensemble import RandomForestClassifier\n",
    "\n",
    "# Initialize and train the model\n",
    "rf_model = RandomForestClassifier(n_estimators=100, random_state=42)\n",
    "rf_model.fit(X_train, y_train)\n",
    "\n",
    "# Make predictions\n",
    "y_pred_rf = rf_model.predict(X_test)\n",
    "\n",
    "# Evaluate\n",
    "print(\"Random Forest Results\")\n",
    "print(f\"Accuracy: {accuracy_score(y_test, y_pred_rf):.4f}\")\n",
    "print(classification_report(y_test, y_pred_rf, target_names=['Fake', 'Real']))"
   ],
   "id": "c160acffa2502e87",
   "outputs": [
    {
     "name": "stdout",
     "output_type": "stream",
     "text": [
      "Random Forest Results\n",
      "Accuracy: 0.8783\n",
      "              precision    recall  f1-score   support\n",
      "\n",
      "        Fake       0.84      0.93      0.88      3496\n",
      "        Real       0.92      0.83      0.87      3481\n",
      "\n",
      "    accuracy                           0.88      6977\n",
      "   macro avg       0.88      0.88      0.88      6977\n",
      "weighted avg       0.88      0.88      0.88      6977\n",
      "\n"
     ]
    }
   ],
   "execution_count": 37
  },
  {
   "metadata": {},
   "cell_type": "markdown",
   "source": [
    "Gradient Boosting Machines (GBM) with XGBoost\n",
    "Gradient Boosting builds trees sequentially to correct errors, often achieving top performance."
   ],
   "id": "48fe190d90d045e7"
  },
  {
   "metadata": {
    "ExecuteTime": {
     "end_time": "2025-03-24T08:00:19.428245Z",
     "start_time": "2025-03-24T08:00:14.708502Z"
    }
   },
   "cell_type": "code",
   "source": [
    "from xgboost import XGBClassifier\n",
    "\n",
    "# Initialize and train the model\n",
    "xgb_model = XGBClassifier(use_label_encoder=False, eval_metric='logloss', random_state=42)\n",
    "xgb_model.fit(X_train, y_train)\n",
    "\n",
    "# Make predictions\n",
    "y_pred_xgb = xgb_model.predict(X_test)\n",
    "\n",
    "# Evaluate\n",
    "print(\"XGBoost Results\")\n",
    "print(f\"Accuracy: {accuracy_score(y_test, y_pred_xgb):.4f}\")\n",
    "print(classification_report(y_test, y_pred_xgb, target_names=['Fake', 'Real']))"
   ],
   "id": "88cba9e9b9a1bc69",
   "outputs": [
    {
     "name": "stderr",
     "output_type": "stream",
     "text": [
      "C:\\Users\\LEGION\\anaconda3\\Lib\\site-packages\\xgboost\\training.py:183: UserWarning: [13:45:15] WARNING: C:\\actions-runner\\_work\\xgboost\\xgboost\\src\\learner.cc:738: \n",
      "Parameters: { \"use_label_encoder\" } are not used.\n",
      "\n",
      "  bst.update(dtrain, iteration=i, fobj=obj)\n"
     ]
    },
    {
     "name": "stdout",
     "output_type": "stream",
     "text": [
      "XGBoost Results\n",
      "Accuracy: 0.8157\n",
      "              precision    recall  f1-score   support\n",
      "\n",
      "        Fake       0.89      0.72      0.80      3496\n",
      "        Real       0.76      0.91      0.83      3481\n",
      "\n",
      "    accuracy                           0.82      6977\n",
      "   macro avg       0.83      0.82      0.81      6977\n",
      "weighted avg       0.83      0.82      0.81      6977\n",
      "\n"
     ]
    }
   ],
   "execution_count": 38
  },
  {
   "metadata": {},
   "cell_type": "markdown",
   "source": "",
   "id": "c214520af00b3e72"
  },
  {
   "metadata": {
    "ExecuteTime": {
     "end_time": "2025-03-24T08:00:21.771188Z",
     "start_time": "2025-03-24T08:00:19.482559Z"
    }
   },
   "cell_type": "code",
   "source": [
    "#Hyperparameter Tuning (LogisticRegression)\n",
    "from sklearn.model_selection import GridSearchCV\n",
    "\n",
    "# Define the parameter grid\n",
    "param_grid = {'C': [0.1, 1, 10], 'solver': ['lbfgs', 'liblinear']}\n",
    "\n",
    "# Initialize grid search\n",
    "grid_search = GridSearchCV(LogisticRegression(), param_grid, cv=5, scoring='f1_macro')\n",
    "\n",
    "# Fit the grid search\n",
    "grid_search.fit(X_train, y_train)\n",
    "\n",
    "# Get the best model\n",
    "best_model = grid_search.best_estimator_\n",
    "\n",
    "# Evaluate the best model\n",
    "y_pred_best = best_model.predict(X_test)\n",
    "print(f'Best Model Accuracy: {accuracy_score(y_test, y_pred_best):.4f}')\n",
    "print(classification_report(y_test, y_pred_best, target_names=['Fake', 'Real']))"
   ],
   "id": "1ab4580f56fa07ba",
   "outputs": [
    {
     "name": "stdout",
     "output_type": "stream",
     "text": [
      "Best Model Accuracy: 0.8555\n",
      "              precision    recall  f1-score   support\n",
      "\n",
      "        Fake       0.83      0.89      0.86      3496\n",
      "        Real       0.88      0.82      0.85      3481\n",
      "\n",
      "    accuracy                           0.86      6977\n",
      "   macro avg       0.86      0.86      0.86      6977\n",
      "weighted avg       0.86      0.86      0.86      6977\n",
      "\n"
     ]
    }
   ],
   "execution_count": 39
  },
  {
   "metadata": {
    "ExecuteTime": {
     "end_time": "2025-03-24T08:13:12.139039Z",
     "start_time": "2025-03-24T08:00:21.799673Z"
    }
   },
   "cell_type": "code",
   "source": [
    "#Hyperparameter Tuning (SVM)\n",
    "param_grid_svm = {'C': [0.1, 1, 10]}\n",
    "grid_svm = GridSearchCV(SVC(kernel='linear'), param_grid_svm, cv=5, refit=True)\n",
    "grid_svm.fit(X_train, y_train)\n",
    "\n",
    "best_svm = grid_svm.best_estimator_\n",
    "y_pred_best_svm = best_svm.predict(X_test)\n",
    "\n",
    "print(\"\\n=== Best SVM ===\")\n",
    "print(\"Best Parameters:\", grid_svm.best_params_)\n",
    "print(f\"Accuracy: {accuracy_score(y_test, y_pred_best_svm):.4f}\")\n",
    "print(classification_report(y_test, y_pred_best_svm, target_names=['Fake', 'Real']))"
   ],
   "id": "9402472f993486ab",
   "outputs": [
    {
     "name": "stdout",
     "output_type": "stream",
     "text": [
      "\n",
      "=== Best SVM ===\n",
      "Best Parameters: {'C': 10}\n",
      "Accuracy: 0.8524\n",
      "              precision    recall  f1-score   support\n",
      "\n",
      "        Fake       0.83      0.89      0.86      3496\n",
      "        Real       0.88      0.81      0.85      3481\n",
      "\n",
      "    accuracy                           0.85      6977\n",
      "   macro avg       0.85      0.85      0.85      6977\n",
      "weighted avg       0.85      0.85      0.85      6977\n",
      "\n"
     ]
    }
   ],
   "execution_count": 40
  },
  {
   "metadata": {
    "ExecuteTime": {
     "end_time": "2025-03-24T08:13:12.285267Z",
     "start_time": "2025-03-24T08:13:12.186645Z"
    }
   },
   "cell_type": "code",
   "source": [
    "import pandas as pd\n",
    "from sklearn.metrics import accuracy_score, f1_score, precision_score, recall_score\n",
    "\n",
    "results = {\n",
    "    \"Logistic Regression\": {\n",
    "        \"accuracy\": accuracy_score(y_test, y_pred),\n",
    "        \"precision\": precision_score(y_test, y_pred, average='weighted'),\n",
    "        \"recall\": recall_score(y_test, y_pred, average='weighted'),\n",
    "        \"f1\": f1_score(y_test, y_pred, average='weighted')\n",
    "    },\n",
    "    \"Naive Bayes\": {\n",
    "        \"accuracy\": accuracy_score(y_test, y_pred_nb),\n",
    "        \"precision\": precision_score(y_test, y_pred_nb, average='weighted'),\n",
    "        \"recall\": recall_score(y_test, y_pred_nb, average='weighted'),\n",
    "        \"f1\": f1_score(y_test, y_pred_nb, average='weighted')\n",
    "    },\n",
    "    \"SVM\": {\n",
    "        \"accuracy\": accuracy_score(y_test, y_pred_svm),\n",
    "        \"precision\": precision_score(y_test, y_pred_svm, average='weighted'),\n",
    "        \"recall\": recall_score(y_test, y_pred_svm, average='weighted'),\n",
    "        \"f1\": f1_score(y_test, y_pred_svm, average='weighted')\n",
    "    },\n",
    "    \"Random Forest\": {\n",
    "        \"accuracy\": accuracy_score(y_test, y_pred_rf),\n",
    "        \"precision\": precision_score(y_test, y_pred_rf, average='weighted'),\n",
    "        \"recall\": recall_score(y_test, y_pred_rf, average='weighted'),\n",
    "        \"f1\": f1_score(y_test, y_pred_rf, average='weighted')\n",
    "    },\n",
    "    \"XGBoost\": {\n",
    "        \"accuracy\": accuracy_score(y_test, y_pred_xgb),\n",
    "        \"precision\": precision_score(y_test, y_pred_xgb, average='weighted'),\n",
    "        \"recall\": recall_score(y_test, y_pred_xgb, average='weighted'),\n",
    "        \"f1\": f1_score(y_test, y_pred_xgb, average='weighted')\n",
    "    },\n",
    "    \"Best Logistic Regression\": {\n",
    "        \"accuracy\": accuracy_score(y_test, y_pred_best),\n",
    "        \"precision\": precision_score(y_test, y_pred_best, average='weighted'),\n",
    "        \"recall\": recall_score(y_test, y_pred_best, average='weighted'),\n",
    "        \"f1\": f1_score(y_test, y_pred_best, average='weighted')\n",
    "    },\n",
    "    \"Best SVM\": {\n",
    "        \"accuracy\": accuracy_score(y_test, y_pred_best_svm),\n",
    "        \"precision\": precision_score(y_test, y_pred_best_svm, average='weighted'),\n",
    "        \"recall\": recall_score(y_test, y_pred_best_svm, average='weighted'),\n",
    "        \"f1\": f1_score(y_test, y_pred_best_svm, average='weighted')\n",
    "    }\n",
    "}\n",
    "\n",
    "df_results = pd.DataFrame(results).T\n",
    "print(df_results)\n"
   ],
   "id": "4b1494d973e5ea2f",
   "outputs": [
    {
     "name": "stdout",
     "output_type": "stream",
     "text": [
      "                          accuracy  precision    recall        f1\n",
      "Logistic Regression       0.844632   0.846038  0.844632  0.844461\n",
      "Naive Bayes               0.818833   0.818904  0.818833  0.818819\n",
      "SVM                       0.848072   0.851034  0.848072  0.847733\n",
      "Random Forest             0.878314   0.882430  0.878314  0.877970\n",
      "XGBoost                   0.815680   0.827839  0.815680  0.814004\n",
      "Best Logistic Regression  0.855525   0.857310  0.855525  0.855331\n",
      "Best SVM                  0.852372   0.854731  0.852372  0.852111\n"
     ]
    }
   ],
   "execution_count": 41
  },
  {
   "metadata": {
    "ExecuteTime": {
     "end_time": "2025-03-24T08:13:13.037718Z",
     "start_time": "2025-03-24T08:13:12.544521Z"
    }
   },
   "cell_type": "code",
   "source": [
    "# Import necessary libraries (if not already imported)\n",
    "# Import necessary libraries for visualization\n",
    "import matplotlib.pyplot as plt\n",
    "import seaborn as sns\n",
    "\n",
    "from sklearn.metrics import confusion_matrix, ConfusionMatrixDisplay\n",
    "\n",
    "# Plot comparison of models across metrics\n",
    "df_results_reset = df_results.reset_index().rename(columns={'index': 'model'})\n",
    "plt.figure(figsize=(12,8))\n",
    "sns.barplot(x='model', y='score', hue='metric', data=df_results_reset.melt(id_vars='model', value_vars=['accuracy', 'precision', 'recall', 'f1'], var_name='metric', value_name='score'))\n",
    "plt.title('Performance Metrics Comparison across Models')\n",
    "plt.xlabel('Model')\n",
    "plt.ylabel('Score')\n",
    "plt.xticks(rotation=45)\n",
    "plt.show()\n",
    "\n",
    "# Identify the best model based on F1-score\n",
    "y_preds = {\n",
    "    \"Logistic Regression\": y_pred,\n",
    "    \"Naive Bayes\": y_pred_nb,\n",
    "    \"SVM\": y_pred_svm,\n",
    "    \"Random Forest\": y_pred_rf,\n",
    "    \"XGBoost\": y_pred_xgb,\n",
    "    \"Best Logistic Regression\": y_pred_best,\n",
    "    \"Best SVM\": y_pred_best_svm\n",
    "}\n",
    "\n",
    "best_model_name = df_results['f1'].idxmax()\n",
    "y_pred_best = y_preds[best_model_name]\n",
    "\n",
    "# Plot confusion matrix for the best model\n",
    "cm = confusion_matrix(y_test, y_pred_best)\n",
    "disp = ConfusionMatrixDisplay(confusion_matrix=cm, display_labels=['Fake', 'Real'])\n",
    "disp.plot(cmap=plt.cm.Blues)\n",
    "plt.title(f'Confusion Matrix for {best_model_name}')\n",
    "plt.show()"
   ],
   "id": "60eee9835c5efb85",
   "outputs": [
    {
     "data": {
      "text/plain": [
       "<Figure size 1200x800 with 1 Axes>"
      ],
      "image/png": "[encoded data removed]"
     },
     "metadata": {},
     "output_type": "display_data"
    },
    {
     "data": {
      "text/plain": [
       "<Figure size 640x480 with 2 Axes>"
      ],
      "image/png": "[encoded data removed]"
     },
     "metadata": {},
     "output_type": "display_data"
    }
   ],
   "execution_count": 42
  },
  {
   "metadata": {
    "ExecuteTime": {
     "end_time": "2025-03-24T08:13:13.473491Z",
     "start_time": "2025-03-24T08:13:13.086649Z"
    }
   },
   "cell_type": "code",
   "source": [
    "import joblib\n",
    "\n",
    "best_model = rf_model\n",
    "joblib.dump(best_model, \"best_model.joblib\")\n",
    "joblib.dump(vectorizer, \"tfidf_vectorizer.joblib\")\n"
   ],
   "id": "4a603c8c969f2de9",
   "outputs": [
    {
     "data": {
      "text/plain": [
       "['tfidf_vectorizer.joblib']"
      ]
     },
     "execution_count": 43,
     "metadata": {},
     "output_type": "execute_result"
    }
   ],
   "execution_count": 43
  },
  {
   "metadata": {
    "ExecuteTime": {
     "end_time": "2025-03-24T09:40:56.737735Z",
     "start_time": "2025-03-24T09:40:55.845836Z"
    }
   },
   "cell_type": "code",
   "source": "combined_dataset.shape",
   "id": "bb4f1d3f6aeee1c0",
   "outputs": [
    {
     "data": {
      "text/plain": [
       "(23196, 3)"
      ]
     },
     "execution_count": 45,
     "metadata": {},
     "output_type": "execute_result"
    }
   ],
   "execution_count": 45
  },
  {
   "metadata": {},
   "cell_type": "code",
   "outputs": [],
   "execution_count": null,
   "source": "",
   "id": "aba3ddddb4c31d9"
  }
 ],
 "metadata": {
  "kernelspec": {
   "display_name": "Python 3",
   "language": "python",
   "name": "python3"
  },
  "language_info": {
   "codemirror_mode": {
    "name": "ipython",
    "version": 2
   },
   "file_extension": ".py",
   "mimetype": "text/x-python",
   "name": "python",
   "nbconvert_exporter": "python",
   "pygments_lexer": "ipython2",
   "version": "2.7.6"
  }
 },
 "nbformat": 4,
 "nbformat_minor": 5
}
